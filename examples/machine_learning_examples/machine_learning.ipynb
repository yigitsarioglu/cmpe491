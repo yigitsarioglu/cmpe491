{
  "nbformat": 4,
  "nbformat_minor": 0,
  "metadata": {
    "colab": {
      "provenance": [],
      "gpuType": "T4"
    },
    "kernelspec": {
      "name": "python3",
      "display_name": "Python 3"
    },
    "language_info": {
      "name": "python"
    },
    "accelerator": "GPU"
  },
  "cells": [
    {
      "cell_type": "code",
      "source": [
        "# DATASET DOSYASINI GOOGLE DRİVE /tmp klasörüne unzip edilmesi\n",
        "import shutil\n",
        "from google.colab import drive\n",
        "\n",
        "drive.mount(\"/content/gdrive\")\n",
        "# Change the code below if the path to the dataset is different for you.\n",
        "shutil.unpack_archive(\"/content/gdrive/MyDrive/linearcsv.zip\", \"/tmp/\")\n",
        "shutil.unpack_archive(\"/content/gdrive/MyDrive/2016dolaralis.zip\", \"/tmp/\")\n",
        "shutil.unpack_archive(\"/content/gdrive/MyDrive/breast_cancer.zip\", \"/tmp/\")\n",
        "shutil.unpack_archive(\"/content/gdrive/MyDrive/tensors.zip\", \"/tmp/\")"
      ],
      "metadata": {
        "colab": {
          "base_uri": "https://localhost:8080/"
        },
        "id": "paOQdBGc9xNO",
        "outputId": "85452055-d068-42d3-a6a0-e5725a80de2e"
      },
      "execution_count": null,
      "outputs": [
        {
          "output_type": "stream",
          "name": "stdout",
          "text": [
            "Drive already mounted at /content/gdrive; to attempt to forcibly remount, call drive.mount(\"/content/gdrive\", force_remount=True).\n"
          ]
        }
      ]
    },
    {
      "cell_type": "code",
      "source": [
        "# Filepath kontrol edilmesi\n",
        "import os\n",
        "\n",
        "file_path = r\"/tmp/linear.csv\"\n",
        "if os.path.exists(file_path):\n",
        "    print(\"Dosya bulundu.\")\n",
        "else:\n",
        "    print(\"Dosya bulunamadı.\")"
      ],
      "metadata": {
        "colab": {
          "base_uri": "https://localhost:8080/"
        },
        "id": "r55kOWKc9e8J",
        "outputId": "bdcdaa85-2a51-4b6d-a692-4b8014cdf100"
      },
      "execution_count": null,
      "outputs": [
        {
          "output_type": "stream",
          "name": "stdout",
          "text": [
            "Dosya bulundu.\n"
          ]
        }
      ]
    },
    {
      "cell_type": "code",
      "execution_count": null,
      "metadata": {
        "colab": {
          "base_uri": "https://localhost:8080/",
          "height": 465
        },
        "id": "ApqXE6--7Nll",
        "outputId": "9aeb36e4-ac0c-407b-d019-04423f86d832"
      },
      "outputs": [
        {
          "output_type": "stream",
          "name": "stdout",
          "text": [
            "Eğim :  [[1.70655779]]\n",
            " Y eksenini kestiği yer :  [-0.0059023]\n"
          ]
        },
        {
          "output_type": "display_data",
          "data": {
            "text/plain": [
              "<Figure size 640x480 with 1 Axes>"
            ],
            "image/png": "[encoded data removed]"
          },
          "metadata": {}
        }
      ],
      "source": [
        "# Daire Metrekare ve Fiyat Tahmini\n",
        "# Lineer Regressyon örneği\n",
        "import numpy as np\n",
        "import pandas as pd\n",
        "from sklearn.linear_model import LinearRegression as lr\n",
        "import matplotlib.pyplot as plt\n",
        "\n",
        "data = pd.read_csv(file_path)\n",
        "\n",
        "x= data [\"metrekare\"]\n",
        "y = data [\"fiyat\"]\n",
        "\n",
        "x = x.values.reshape(99,1)\n",
        "y = y.values.reshape (99,1)\n",
        "\n",
        "lineerregresyon = lr()\n",
        "\n",
        "lineerregresyon.fit(x,y)\n",
        "\n",
        "lineerregresyon.predict(x)\n",
        "\n",
        "m = lineerregresyon.coef_\n",
        "b= lineerregresyon.intercept_\n",
        "\n",
        "print(\"Eğim : \" , m )\n",
        "print(\" Y eksenini kestiği yer : \" , b )\n",
        "\n",
        "a = np.arange (150)\n",
        "\n",
        "plt.scatter(x,y)\n",
        "# plt.scatter(a, m*a +b)\n",
        "plt.show()"
      ]
    },
    {
      "cell_type": "code",
      "source": [
        "# Daire Metrekare ve Fiyat Tahmini\n",
        "# İnput ile sorup ne kadar olduğu bulunur\n",
        "\n",
        "\n",
        "import numpy as np\n",
        "import pandas as pd\n",
        "from sklearn.linear_model import LinearRegression\n",
        "import matplotlib.pyplot as plt\n",
        "\n",
        "# Veriyi okuma\n",
        "data = pd.read_csv(file_path)\n",
        "\n",
        "# Metrekare ve fiyat değerlerini alalım\n",
        "X = data[\"metrekare\"].values.reshape(-1, 1)  # X'i 2 boyutlu hale getiriyoruz\n",
        "y = data[\"fiyat\"].values\n",
        "\n",
        "# Doğrusal regresyon modeli oluşturma\n",
        "model = LinearRegression()\n",
        "model.fit(X, y)\n",
        "\n",
        "# Tahmin edilen fiyatlar\n",
        "y_pred = model.predict(X)\n",
        "\n",
        "\n",
        "\n",
        "# Yeni bir değer için tahmin\n",
        "z = int(input(\"Kaç metrekare? \"))\n",
        "tahmin = model.predict([[z]])\n",
        "print(f\"Tahmini fiyat: {tahmin[0]}\")\n",
        "\n",
        "# Modelin parametreleri\n",
        "print(f\"y = {model.coef_[0]}x + {model.intercept_}\")\n",
        "\n",
        "\n",
        "\n",
        "# Veriyi görselleştirme\n",
        "plt.scatter(X, y)\n",
        "plt.plot(X, y_pred, color='red')\n",
        "plt.xlabel(\"Metrekare\")\n",
        "plt.ylabel(\"Fiyat\")\n",
        "plt.title(\"Metrekareye Göre Fiyat Tahmini\")\n",
        "plt.show()"
      ],
      "metadata": {
        "colab": {
          "base_uri": "https://localhost:8080/"
        },
        "id": "uwzEH15MAGAb",
        "outputId": "654cca68-6f6b-4c42-8c11-405e07dcd2c8"
      },
      "execution_count": null,
      "outputs": [
        {
          "output_type": "stream",
          "name": "stdout",
          "text": [
            "Kaç metrekare? 10\n",
            "Tahmini fiyat: 17.059675590467652\n",
            "y = 1.70655778945782x + -0.005902304110549039\n"
          ]
        }
      ]
    },
    {
      "cell_type": "code",
      "source": [
        "# Dolar Tahmin Lineer Regressyon\n",
        "\n",
        "import numpy as np\n",
        "import pandas as pd\n",
        "from sklearn.linear_model import LinearRegression\n",
        "import matplotlib.pyplot as plt\n",
        "from sklearn.preprocessing import PolynomialFeatures\n",
        "import os\n",
        "\n",
        "\n",
        "\n",
        "file_path = r\"/tmp/2016dolaralis.csv\"\n",
        "if os.path.exists(file_path):\n",
        "    print(\"Dosya bulundu.\")\n",
        "else:\n",
        "    print(\"Dosya bulunamadı.\")\n",
        "\n",
        "veri = pd.read_csv(file_path)\n",
        "\n",
        "print(veri)\n",
        "\n",
        "x = veri [\"Gun\"]\n",
        "y = veri [\"Fiyat\"]\n",
        "\n",
        "#x = x.values.reshape(251,1)\n",
        "#y = y.values.reshape ( 251,1)\n",
        "\n",
        "# Veriyi şekillendir\n",
        "x = x.values.reshape(-1, 1)  # Otomatik boyutlandırma\n",
        "y = y.values.reshape(-1, 1)\n",
        "\n",
        "\n",
        "# tüm noktaların gösterimi\n",
        "plt.scatter(x,y)\n"
      ],
      "metadata": {
        "colab": {
          "base_uri": "https://localhost:8080/",
          "height": 708
        },
        "id": "blDjizbIBa5O",
        "outputId": "ac5987f8-2381-4b8a-a71e-45d795b16100"
      },
      "execution_count": null,
      "outputs": [
        {
          "output_type": "stream",
          "name": "stdout",
          "text": [
            "Dosya bulundu.\n",
            "     Gun   Fiyat\n",
            "0      1  2.9181\n",
            "1      2  2.9422\n",
            "2      3  2.9750\n",
            "3      4  3.0040\n",
            "4      5  3.0167\n",
            "..   ...     ...\n",
            "246  247  3.5077\n",
            "247  248  3.5041\n",
            "248  249  3.5135\n",
            "249  250  3.5329\n",
            "250  251  3.5318\n",
            "\n",
            "[251 rows x 2 columns]\n"
          ]
        },
        {
          "output_type": "execute_result",
          "data": {
            "text/plain": [
              "<matplotlib.collections.PathCollection at 0x7a1442758b50>"
            ]
          },
          "metadata": {},
          "execution_count": 14
        },
        {
          "output_type": "display_data",
          "data": {
            "text/plain": [
              "<Figure size 640x480 with 1 Axes>"
            ],
            "image/png": "[encoded data removed]"
          },
          "metadata": {}
        }
      ]
    },
    {
      "cell_type": "code",
      "source": [
        "#Lineer Regressyon ve Polinom Regressyon\n",
        "\n",
        "# tüm noktaların gösterimi\n",
        "plt.scatter(x,y)\n",
        "\n",
        "\n",
        "#Lineer Regressyon\n",
        "tahminLineer = LinearRegression()\n",
        "tahminLineer.fit(x,y)\n",
        "tahminLineer.predict(x)\n",
        "\n",
        "plt.plot(x, tahminLineer.predict(x) , c=\"red\")\n",
        "\n",
        "\n",
        "# polinom Regressyon\n",
        "tahminpolinom = PolynomialFeatures(degree=2)\n",
        "Xyeni = tahminpolinom.fit_transform(x)\n",
        "\n",
        "polinommodel = LinearRegression()\n",
        "polinommodel.fit(Xyeni, y)\n",
        "polinommodel.predict(Xyeni)\n",
        "plt.plot (x ,   polinommodel.predict(Xyeni) , c=\"orange\")\n",
        "\n",
        "plt.show()"
      ],
      "metadata": {
        "colab": {
          "base_uri": "https://localhost:8080/",
          "height": 430
        },
        "id": "x27tQRek3VFh",
        "outputId": "aecab462-eb4b-4f62-99a5-e3db7b7052c0"
      },
      "execution_count": null,
      "outputs": [
        {
          "output_type": "display_data",
          "data": {
            "text/plain": [
              "<Figure size 640x480 with 1 Axes>"
            ],
            "image/png": "[encoded data removed]"
          },
          "metadata": {}
        }
      ]
    },
    {
      "cell_type": "code",
      "source": [
        "# Kareler farkı yöntemini kullanarak hata fonksiyonlarını bulma\n",
        "\n",
        "from sklearn.preprocessing import PolynomialFeatures\n",
        "from sklearn.linear_model import LinearRegression\n",
        "import numpy as np\n",
        "\n",
        "# x ve y burada tanımlanmış olmalı, örneğin:\n",
        "# x = np.array([...])\n",
        "# y = np.array([...])\n",
        "\n",
        "hatakaresipolinom = 0\n",
        "\n",
        "for a in range(150):\n",
        "    tahminpolinom = PolynomialFeatures(degree=a + 1)\n",
        "    Xyeni = tahminpolinom.fit_transform(x)\n",
        "\n",
        "    polinommodel = LinearRegression()\n",
        "    polinommodel.fit(Xyeni, y)\n",
        "    y_pred = polinommodel.predict(Xyeni)  # Tahminleri bir değişkene alıyoruz\n",
        "\n",
        "    for i in range(len(Xyeni)):\n",
        "        hatakaresipolinom += (float(y[i]) - float(y_pred[i])) ** 2  # Skalar değer için `y_pred[i]`\n",
        "\n",
        "    print(f\"{a + 1} inci dereceden fonksiyonda hata: {hatakaresipolinom:.3f}\")\n",
        "\n",
        "    hatakaresipolinom = 0\n"
      ],
      "metadata": {
        "colab": {
          "base_uri": "https://localhost:8080/",
          "height": 1000
        },
        "collapsed": true,
        "id": "KU6GJ9Yg9ah6",
        "outputId": "02412029-fadf-42a3-e136-47c1ced559d2"
      },
      "execution_count": null,
      "outputs": [
        {
          "output_type": "stream",
          "name": "stderr",
          "text": [
            "<ipython-input-16-dfdb8720a8db>:20: DeprecationWarning: Conversion of an array with ndim > 0 to a scalar is deprecated, and will error in future. Ensure you extract a single element from your array before performing this operation. (Deprecated NumPy 1.25.)\n",
            "  hatakaresipolinom += (float(y[i]) - float(y_pred[i])) ** 2  # Skalar değer için `y_pred[i]`\n",
            "<ipython-input-16-dfdb8720a8db>:20: DeprecationWarning: Conversion of an array with ndim > 0 to a scalar is deprecated, and will error in future. Ensure you extract a single element from your array before performing this operation. (Deprecated NumPy 1.25.)\n",
            "  hatakaresipolinom += (float(y[i]) - float(y_pred[i])) ** 2  # Skalar değer için `y_pred[i]`\n",
            "<ipython-input-16-dfdb8720a8db>:20: DeprecationWarning: Conversion of an array with ndim > 0 to a scalar is deprecated, and will error in future. Ensure you extract a single element from your array before performing this operation. (Deprecated NumPy 1.25.)\n",
            "  hatakaresipolinom += (float(y[i]) - float(y_pred[i])) ** 2  # Skalar değer için `y_pred[i]`\n",
            "<ipython-input-16-dfdb8720a8db>:20: DeprecationWarning: Conversion of an array with ndim > 0 to a scalar is deprecated, and will error in future. Ensure you extract a single element from your array before performing this operation. (Deprecated NumPy 1.25.)\n",
            "  hatakaresipolinom += (float(y[i]) - float(y_pred[i])) ** 2  # Skalar değer için `y_pred[i]`\n",
            "<ipython-input-16-dfdb8720a8db>:20: DeprecationWarning: Conversion of an array with ndim > 0 to a scalar is deprecated, and will error in future. Ensure you extract a single element from your array before performing this operation. (Deprecated NumPy 1.25.)\n",
            "  hatakaresipolinom += (float(y[i]) - float(y_pred[i])) ** 2  # Skalar değer için `y_pred[i]`\n",
            "<ipython-input-16-dfdb8720a8db>:20: DeprecationWarning: Conversion of an array with ndim > 0 to a scalar is deprecated, and will error in future. Ensure you extract a single element from your array before performing this operation. (Deprecated NumPy 1.25.)\n",
            "  hatakaresipolinom += (float(y[i]) - float(y_pred[i])) ** 2  # Skalar değer için `y_pred[i]`\n",
            "<ipython-input-16-dfdb8720a8db>:20: DeprecationWarning: Conversion of an array with ndim > 0 to a scalar is deprecated, and will error in future. Ensure you extract a single element from your array before performing this operation. (Deprecated NumPy 1.25.)\n",
            "  hatakaresipolinom += (float(y[i]) - float(y_pred[i])) ** 2  # Skalar değer için `y_pred[i]`\n",
            "<ipython-input-16-dfdb8720a8db>:20: DeprecationWarning: Conversion of an array with ndim > 0 to a scalar is deprecated, and will error in future. Ensure you extract a single element from your array before performing this operation. (Deprecated NumPy 1.25.)\n",
            "  hatakaresipolinom += (float(y[i]) - float(y_pred[i])) ** 2  # Skalar değer için `y_pred[i]`\n",
            "<ipython-input-16-dfdb8720a8db>:20: DeprecationWarning: Conversion of an array with ndim > 0 to a scalar is deprecated, and will error in future. Ensure you extract a single element from your array before performing this operation. (Deprecated NumPy 1.25.)\n",
            "  hatakaresipolinom += (float(y[i]) - float(y_pred[i])) ** 2  # Skalar değer için `y_pred[i]`\n",
            "<ipython-input-16-dfdb8720a8db>:20: DeprecationWarning: Conversion of an array with ndim > 0 to a scalar is deprecated, and will error in future. Ensure you extract a single element from your array before performing this operation. (Deprecated NumPy 1.25.)\n",
            "  hatakaresipolinom += (float(y[i]) - float(y_pred[i])) ** 2  # Skalar değer için `y_pred[i]`\n",
            "<ipython-input-16-dfdb8720a8db>:20: DeprecationWarning: Conversion of an array with ndim > 0 to a scalar is deprecated, and will error in future. Ensure you extract a single element from your array before performing this operation. (Deprecated NumPy 1.25.)\n",
            "  hatakaresipolinom += (float(y[i]) - float(y_pred[i])) ** 2  # Skalar değer için `y_pred[i]`\n",
            "<ipython-input-16-dfdb8720a8db>:20: DeprecationWarning: Conversion of an array with ndim > 0 to a scalar is deprecated, and will error in future. Ensure you extract a single element from your array before performing this operation. (Deprecated NumPy 1.25.)\n",
            "  hatakaresipolinom += (float(y[i]) - float(y_pred[i])) ** 2  # Skalar değer için `y_pred[i]`\n",
            "<ipython-input-16-dfdb8720a8db>:20: DeprecationWarning: Conversion of an array with ndim > 0 to a scalar is deprecated, and will error in future. Ensure you extract a single element from your array before performing this operation. (Deprecated NumPy 1.25.)\n",
            "  hatakaresipolinom += (float(y[i]) - float(y_pred[i])) ** 2  # Skalar değer için `y_pred[i]`\n",
            "<ipython-input-16-dfdb8720a8db>:20: DeprecationWarning: Conversion of an array with ndim > 0 to a scalar is deprecated, and will error in future. Ensure you extract a single element from your array before performing this operation. (Deprecated NumPy 1.25.)\n",
            "  hatakaresipolinom += (float(y[i]) - float(y_pred[i])) ** 2  # Skalar değer için `y_pred[i]`\n",
            "<ipython-input-16-dfdb8720a8db>:20: DeprecationWarning: Conversion of an array with ndim > 0 to a scalar is deprecated, and will error in future. Ensure you extract a single element from your array before performing this operation. (Deprecated NumPy 1.25.)\n",
            "  hatakaresipolinom += (float(y[i]) - float(y_pred[i])) ** 2  # Skalar değer için `y_pred[i]`\n",
            "<ipython-input-16-dfdb8720a8db>:20: DeprecationWarning: Conversion of an array with ndim > 0 to a scalar is deprecated, and will error in future. Ensure you extract a single element from your array before performing this operation. (Deprecated NumPy 1.25.)\n",
            "  hatakaresipolinom += (float(y[i]) - float(y_pred[i])) ** 2  # Skalar değer için `y_pred[i]`\n",
            "<ipython-input-16-dfdb8720a8db>:20: DeprecationWarning: Conversion of an array with ndim > 0 to a scalar is deprecated, and will error in future. Ensure you extract a single element from your array before performing this operation. (Deprecated NumPy 1.25.)\n",
            "  hatakaresipolinom += (float(y[i]) - float(y_pred[i])) ** 2  # Skalar değer için `y_pred[i]`\n",
            "<ipython-input-16-dfdb8720a8db>:20: DeprecationWarning: Conversion of an array with ndim > 0 to a scalar is deprecated, and will error in future. Ensure you extract a single element from your array before performing this operation. (Deprecated NumPy 1.25.)\n",
            "  hatakaresipolinom += (float(y[i]) - float(y_pred[i])) ** 2  # Skalar değer için `y_pred[i]`\n",
            "<ipython-input-16-dfdb8720a8db>:20: DeprecationWarning: Conversion of an array with ndim > 0 to a scalar is deprecated, and will error in future. Ensure you extract a single element from your array before performing this operation. (Deprecated NumPy 1.25.)\n",
            "  hatakaresipolinom += (float(y[i]) - float(y_pred[i])) ** 2  # Skalar değer için `y_pred[i]`\n",
            "<ipython-input-16-dfdb8720a8db>:20: DeprecationWarning: Conversion of an array with ndim > 0 to a scalar is deprecated, and will error in future. Ensure you extract a single element from your array before performing this operation. (Deprecated NumPy 1.25.)\n",
            "  hatakaresipolinom += (float(y[i]) - float(y_pred[i])) ** 2  # Skalar değer için `y_pred[i]`\n",
            "<ipython-input-16-dfdb8720a8db>:20: DeprecationWarning: Conversion of an array with ndim > 0 to a scalar is deprecated, and will error in future. Ensure you extract a single element from your array before performing this operation. (Deprecated NumPy 1.25.)\n",
            "  hatakaresipolinom += (float(y[i]) - float(y_pred[i])) ** 2  # Skalar değer için `y_pred[i]`\n",
            "<ipython-input-16-dfdb8720a8db>:20: DeprecationWarning: Conversion of an array with ndim > 0 to a scalar is deprecated, and will error in future. Ensure you extract a single element from your array before performing this operation. (Deprecated NumPy 1.25.)\n",
            "  hatakaresipolinom += (float(y[i]) - float(y_pred[i])) ** 2  # Skalar değer için `y_pred[i]`\n",
            "<ipython-input-16-dfdb8720a8db>:20: DeprecationWarning: Conversion of an array with ndim > 0 to a scalar is deprecated, and will error in future. Ensure you extract a single element from your array before performing this operation. (Deprecated NumPy 1.25.)\n",
            "  hatakaresipolinom += (float(y[i]) - float(y_pred[i])) ** 2  # Skalar değer için `y_pred[i]`\n",
            "<ipython-input-16-dfdb8720a8db>:20: DeprecationWarning: Conversion of an array with ndim > 0 to a scalar is deprecated, and will error in future. Ensure you extract a single element from your array before performing this operation. (Deprecated NumPy 1.25.)\n",
            "  hatakaresipolinom += (float(y[i]) - float(y_pred[i])) ** 2  # Skalar değer için `y_pred[i]`\n",
            "<ipython-input-16-dfdb8720a8db>:20: DeprecationWarning: Conversion of an array with ndim > 0 to a scalar is deprecated, and will error in future. Ensure you extract a single element from your array before performing this operation. (Deprecated NumPy 1.25.)\n",
            "  hatakaresipolinom += (float(y[i]) - float(y_pred[i])) ** 2  # Skalar değer için `y_pred[i]`\n",
            "<ipython-input-16-dfdb8720a8db>:20: DeprecationWarning: Conversion of an array with ndim > 0 to a scalar is deprecated, and will error in future. Ensure you extract a single element from your array before performing this operation. (Deprecated NumPy 1.25.)\n",
            "  hatakaresipolinom += (float(y[i]) - float(y_pred[i])) ** 2  # Skalar değer için `y_pred[i]`\n",
            "<ipython-input-16-dfdb8720a8db>:20: DeprecationWarning: Conversion of an array with ndim > 0 to a scalar is deprecated, and will error in future. Ensure you extract a single element from your array before performing this operation. (Deprecated NumPy 1.25.)\n",
            "  hatakaresipolinom += (float(y[i]) - float(y_pred[i])) ** 2  # Skalar değer için `y_pred[i]`\n",
            "<ipython-input-16-dfdb8720a8db>:20: DeprecationWarning: Conversion of an array with ndim > 0 to a scalar is deprecated, and will error in future. Ensure you extract a single element from your array before performing this operation. (Deprecated NumPy 1.25.)\n",
            "  hatakaresipolinom += (float(y[i]) - float(y_pred[i])) ** 2  # Skalar değer için `y_pred[i]`\n",
            "<ipython-input-16-dfdb8720a8db>:20: DeprecationWarning: Conversion of an array with ndim > 0 to a scalar is deprecated, and will error in future. Ensure you extract a single element from your array before performing this operation. (Deprecated NumPy 1.25.)\n",
            "  hatakaresipolinom += (float(y[i]) - float(y_pred[i])) ** 2  # Skalar değer için `y_pred[i]`\n",
            "<ipython-input-16-dfdb8720a8db>:20: DeprecationWarning: Conversion of an array with ndim > 0 to a scalar is deprecated, and will error in future. Ensure you extract a single element from your array before performing this operation. (Deprecated NumPy 1.25.)\n",
            "  hatakaresipolinom += (float(y[i]) - float(y_pred[i])) ** 2  # Skalar değer için `y_pred[i]`\n",
            "<ipython-input-16-dfdb8720a8db>:20: DeprecationWarning: Conversion of an array with ndim > 0 to a scalar is deprecated, and will error in future. Ensure you extract a single element from your array before performing this operation. (Deprecated NumPy 1.25.)\n",
            "  hatakaresipolinom += (float(y[i]) - float(y_pred[i])) ** 2  # Skalar değer için `y_pred[i]`\n",
            "<ipython-input-16-dfdb8720a8db>:20: DeprecationWarning: Conversion of an array with ndim > 0 to a scalar is deprecated, and will error in future. Ensure you extract a single element from your array before performing this operation. (Deprecated NumPy 1.25.)\n",
            "  hatakaresipolinom += (float(y[i]) - float(y_pred[i])) ** 2  # Skalar değer için `y_pred[i]`\n",
            "<ipython-input-16-dfdb8720a8db>:20: DeprecationWarning: Conversion of an array with ndim > 0 to a scalar is deprecated, and will error in future. Ensure you extract a single element from your array before performing this operation. (Deprecated NumPy 1.25.)\n",
            "  hatakaresipolinom += (float(y[i]) - float(y_pred[i])) ** 2  # Skalar değer için `y_pred[i]`\n",
            "<ipython-input-16-dfdb8720a8db>:20: DeprecationWarning: Conversion of an array with ndim > 0 to a scalar is deprecated, and will error in future. Ensure you extract a single element from your array before performing this operation. (Deprecated NumPy 1.25.)\n",
            "  hatakaresipolinom += (float(y[i]) - float(y_pred[i])) ** 2  # Skalar değer için `y_pred[i]`\n",
            "<ipython-input-16-dfdb8720a8db>:20: DeprecationWarning: Conversion of an array with ndim > 0 to a scalar is deprecated, and will error in future. Ensure you extract a single element from your array before performing this operation. (Deprecated NumPy 1.25.)\n",
            "  hatakaresipolinom += (float(y[i]) - float(y_pred[i])) ** 2  # Skalar değer için `y_pred[i]`\n"
          ]
        },
        {
          "output_type": "stream",
          "name": "stdout",
          "text": [
            "1 inci dereceden fonksiyonda hata: 4.481\n",
            "2 inci dereceden fonksiyonda hata: 1.002\n",
            "3 inci dereceden fonksiyonda hata: 0.799\n",
            "4 inci dereceden fonksiyonda hata: 0.671\n",
            "5 inci dereceden fonksiyonda hata: 0.667\n",
            "6 inci dereceden fonksiyonda hata: 0.454\n",
            "7 inci dereceden fonksiyonda hata: 0.388\n",
            "8 inci dereceden fonksiyonda hata: 0.500\n",
            "9 inci dereceden fonksiyonda hata: 0.621\n",
            "10 inci dereceden fonksiyonda hata: 0.683\n",
            "11 inci dereceden fonksiyonda hata: 0.698\n",
            "12 inci dereceden fonksiyonda hata: 0.705\n",
            "13 inci dereceden fonksiyonda hata: 0.713\n",
            "14 inci dereceden fonksiyonda hata: 0.718\n",
            "15 inci dereceden fonksiyonda hata: 0.720\n",
            "16 inci dereceden fonksiyonda hata: 0.720\n",
            "17 inci dereceden fonksiyonda hata: 0.719\n",
            "18 inci dereceden fonksiyonda hata: 0.718\n",
            "19 inci dereceden fonksiyonda hata: 0.717\n",
            "20 inci dereceden fonksiyonda hata: 0.716\n",
            "21 inci dereceden fonksiyonda hata: 0.716\n",
            "22 inci dereceden fonksiyonda hata: 0.717\n",
            "23 inci dereceden fonksiyonda hata: 0.718\n",
            "24 inci dereceden fonksiyonda hata: 0.721\n",
            "25 inci dereceden fonksiyonda hata: 0.723\n",
            "26 inci dereceden fonksiyonda hata: 0.727\n",
            "27 inci dereceden fonksiyonda hata: 0.730\n",
            "28 inci dereceden fonksiyonda hata: 0.735\n",
            "29 inci dereceden fonksiyonda hata: 0.740\n",
            "30 inci dereceden fonksiyonda hata: 0.746\n",
            "31 inci dereceden fonksiyonda hata: 0.753\n",
            "32 inci dereceden fonksiyonda hata: 0.761\n",
            "33 inci dereceden fonksiyonda hata: 0.771\n",
            "34 inci dereceden fonksiyonda hata: 0.782\n",
            "35 inci dereceden fonksiyonda hata: 0.794\n"
          ]
        },
        {
          "output_type": "stream",
          "name": "stderr",
          "text": [
            "<ipython-input-16-dfdb8720a8db>:20: DeprecationWarning: Conversion of an array with ndim > 0 to a scalar is deprecated, and will error in future. Ensure you extract a single element from your array before performing this operation. (Deprecated NumPy 1.25.)\n",
            "  hatakaresipolinom += (float(y[i]) - float(y_pred[i])) ** 2  # Skalar değer için `y_pred[i]`\n",
            "<ipython-input-16-dfdb8720a8db>:20: DeprecationWarning: Conversion of an array with ndim > 0 to a scalar is deprecated, and will error in future. Ensure you extract a single element from your array before performing this operation. (Deprecated NumPy 1.25.)\n",
            "  hatakaresipolinom += (float(y[i]) - float(y_pred[i])) ** 2  # Skalar değer için `y_pred[i]`\n",
            "<ipython-input-16-dfdb8720a8db>:20: DeprecationWarning: Conversion of an array with ndim > 0 to a scalar is deprecated, and will error in future. Ensure you extract a single element from your array before performing this operation. (Deprecated NumPy 1.25.)\n",
            "  hatakaresipolinom += (float(y[i]) - float(y_pred[i])) ** 2  # Skalar değer için `y_pred[i]`\n",
            "<ipython-input-16-dfdb8720a8db>:20: DeprecationWarning: Conversion of an array with ndim > 0 to a scalar is deprecated, and will error in future. Ensure you extract a single element from your array before performing this operation. (Deprecated NumPy 1.25.)\n",
            "  hatakaresipolinom += (float(y[i]) - float(y_pred[i])) ** 2  # Skalar değer için `y_pred[i]`\n",
            "<ipython-input-16-dfdb8720a8db>:20: DeprecationWarning: Conversion of an array with ndim > 0 to a scalar is deprecated, and will error in future. Ensure you extract a single element from your array before performing this operation. (Deprecated NumPy 1.25.)\n",
            "  hatakaresipolinom += (float(y[i]) - float(y_pred[i])) ** 2  # Skalar değer için `y_pred[i]`\n",
            "<ipython-input-16-dfdb8720a8db>:20: DeprecationWarning: Conversion of an array with ndim > 0 to a scalar is deprecated, and will error in future. Ensure you extract a single element from your array before performing this operation. (Deprecated NumPy 1.25.)\n",
            "  hatakaresipolinom += (float(y[i]) - float(y_pred[i])) ** 2  # Skalar değer için `y_pred[i]`\n"
          ]
        },
        {
          "output_type": "stream",
          "name": "stdout",
          "text": [
            "36 inci dereceden fonksiyonda hata: 0.809\n",
            "37 inci dereceden fonksiyonda hata: 0.825\n",
            "38 inci dereceden fonksiyonda hata: 0.844\n",
            "39 inci dereceden fonksiyonda hata: 0.865\n",
            "40 inci dereceden fonksiyonda hata: 0.888\n",
            "41 inci dereceden fonksiyonda hata: 0.914\n"
          ]
        },
        {
          "output_type": "stream",
          "name": "stderr",
          "text": [
            "<ipython-input-16-dfdb8720a8db>:20: DeprecationWarning: Conversion of an array with ndim > 0 to a scalar is deprecated, and will error in future. Ensure you extract a single element from your array before performing this operation. (Deprecated NumPy 1.25.)\n",
            "  hatakaresipolinom += (float(y[i]) - float(y_pred[i])) ** 2  # Skalar değer için `y_pred[i]`\n",
            "<ipython-input-16-dfdb8720a8db>:20: DeprecationWarning: Conversion of an array with ndim > 0 to a scalar is deprecated, and will error in future. Ensure you extract a single element from your array before performing this operation. (Deprecated NumPy 1.25.)\n",
            "  hatakaresipolinom += (float(y[i]) - float(y_pred[i])) ** 2  # Skalar değer için `y_pred[i]`\n",
            "<ipython-input-16-dfdb8720a8db>:20: DeprecationWarning: Conversion of an array with ndim > 0 to a scalar is deprecated, and will error in future. Ensure you extract a single element from your array before performing this operation. (Deprecated NumPy 1.25.)\n",
            "  hatakaresipolinom += (float(y[i]) - float(y_pred[i])) ** 2  # Skalar değer için `y_pred[i]`\n",
            "<ipython-input-16-dfdb8720a8db>:20: DeprecationWarning: Conversion of an array with ndim > 0 to a scalar is deprecated, and will error in future. Ensure you extract a single element from your array before performing this operation. (Deprecated NumPy 1.25.)\n",
            "  hatakaresipolinom += (float(y[i]) - float(y_pred[i])) ** 2  # Skalar değer için `y_pred[i]`\n"
          ]
        },
        {
          "output_type": "stream",
          "name": "stdout",
          "text": [
            "42 inci dereceden fonksiyonda hata: 0.942\n",
            "43 inci dereceden fonksiyonda hata: 0.973\n",
            "44 inci dereceden fonksiyonda hata: 1.006\n",
            "45 inci dereceden fonksiyonda hata: 1.042\n"
          ]
        },
        {
          "output_type": "stream",
          "name": "stderr",
          "text": [
            "<ipython-input-16-dfdb8720a8db>:20: DeprecationWarning: Conversion of an array with ndim > 0 to a scalar is deprecated, and will error in future. Ensure you extract a single element from your array before performing this operation. (Deprecated NumPy 1.25.)\n",
            "  hatakaresipolinom += (float(y[i]) - float(y_pred[i])) ** 2  # Skalar değer için `y_pred[i]`\n",
            "<ipython-input-16-dfdb8720a8db>:20: DeprecationWarning: Conversion of an array with ndim > 0 to a scalar is deprecated, and will error in future. Ensure you extract a single element from your array before performing this operation. (Deprecated NumPy 1.25.)\n",
            "  hatakaresipolinom += (float(y[i]) - float(y_pred[i])) ** 2  # Skalar değer için `y_pred[i]`\n"
          ]
        },
        {
          "output_type": "stream",
          "name": "stdout",
          "text": [
            "46 inci dereceden fonksiyonda hata: 1.081\n",
            "47 inci dereceden fonksiyonda hata: 1.122\n"
          ]
        },
        {
          "output_type": "stream",
          "name": "stderr",
          "text": [
            "<ipython-input-16-dfdb8720a8db>:20: DeprecationWarning: Conversion of an array with ndim > 0 to a scalar is deprecated, and will error in future. Ensure you extract a single element from your array before performing this operation. (Deprecated NumPy 1.25.)\n",
            "  hatakaresipolinom += (float(y[i]) - float(y_pred[i])) ** 2  # Skalar değer için `y_pred[i]`\n",
            "<ipython-input-16-dfdb8720a8db>:20: DeprecationWarning: Conversion of an array with ndim > 0 to a scalar is deprecated, and will error in future. Ensure you extract a single element from your array before performing this operation. (Deprecated NumPy 1.25.)\n",
            "  hatakaresipolinom += (float(y[i]) - float(y_pred[i])) ** 2  # Skalar değer için `y_pred[i]`\n",
            "<ipython-input-16-dfdb8720a8db>:20: DeprecationWarning: Conversion of an array with ndim > 0 to a scalar is deprecated, and will error in future. Ensure you extract a single element from your array before performing this operation. (Deprecated NumPy 1.25.)\n",
            "  hatakaresipolinom += (float(y[i]) - float(y_pred[i])) ** 2  # Skalar değer için `y_pred[i]`\n",
            "<ipython-input-16-dfdb8720a8db>:20: DeprecationWarning: Conversion of an array with ndim > 0 to a scalar is deprecated, and will error in future. Ensure you extract a single element from your array before performing this operation. (Deprecated NumPy 1.25.)\n",
            "  hatakaresipolinom += (float(y[i]) - float(y_pred[i])) ** 2  # Skalar değer için `y_pred[i]`\n",
            "<ipython-input-16-dfdb8720a8db>:20: DeprecationWarning: Conversion of an array with ndim > 0 to a scalar is deprecated, and will error in future. Ensure you extract a single element from your array before performing this operation. (Deprecated NumPy 1.25.)\n",
            "  hatakaresipolinom += (float(y[i]) - float(y_pred[i])) ** 2  # Skalar değer için `y_pred[i]`\n",
            "<ipython-input-16-dfdb8720a8db>:20: DeprecationWarning: Conversion of an array with ndim > 0 to a scalar is deprecated, and will error in future. Ensure you extract a single element from your array before performing this operation. (Deprecated NumPy 1.25.)\n",
            "  hatakaresipolinom += (float(y[i]) - float(y_pred[i])) ** 2  # Skalar değer için `y_pred[i]`\n",
            "<ipython-input-16-dfdb8720a8db>:20: DeprecationWarning: Conversion of an array with ndim > 0 to a scalar is deprecated, and will error in future. Ensure you extract a single element from your array before performing this operation. (Deprecated NumPy 1.25.)\n",
            "  hatakaresipolinom += (float(y[i]) - float(y_pred[i])) ** 2  # Skalar değer için `y_pred[i]`\n",
            "<ipython-input-16-dfdb8720a8db>:20: DeprecationWarning: Conversion of an array with ndim > 0 to a scalar is deprecated, and will error in future. Ensure you extract a single element from your array before performing this operation. (Deprecated NumPy 1.25.)\n",
            "  hatakaresipolinom += (float(y[i]) - float(y_pred[i])) ** 2  # Skalar değer için `y_pred[i]`\n",
            "<ipython-input-16-dfdb8720a8db>:20: DeprecationWarning: Conversion of an array with ndim > 0 to a scalar is deprecated, and will error in future. Ensure you extract a single element from your array before performing this operation. (Deprecated NumPy 1.25.)\n",
            "  hatakaresipolinom += (float(y[i]) - float(y_pred[i])) ** 2  # Skalar değer için `y_pred[i]`\n",
            "<ipython-input-16-dfdb8720a8db>:20: DeprecationWarning: Conversion of an array with ndim > 0 to a scalar is deprecated, and will error in future. Ensure you extract a single element from your array before performing this operation. (Deprecated NumPy 1.25.)\n",
            "  hatakaresipolinom += (float(y[i]) - float(y_pred[i])) ** 2  # Skalar değer için `y_pred[i]`\n"
          ]
        },
        {
          "output_type": "stream",
          "name": "stdout",
          "text": [
            "48 inci dereceden fonksiyonda hata: 1.165\n",
            "49 inci dereceden fonksiyonda hata: 1.210\n",
            "50 inci dereceden fonksiyonda hata: 1.257\n",
            "51 inci dereceden fonksiyonda hata: 1.307\n",
            "52 inci dereceden fonksiyonda hata: 1.358\n",
            "53 inci dereceden fonksiyonda hata: 1.411\n",
            "54 inci dereceden fonksiyonda hata: 1.465\n",
            "55 inci dereceden fonksiyonda hata: 1.520\n",
            "56 inci dereceden fonksiyonda hata: 1.577\n",
            "57 inci dereceden fonksiyonda hata: 1.635\n"
          ]
        },
        {
          "output_type": "stream",
          "name": "stderr",
          "text": [
            "<ipython-input-16-dfdb8720a8db>:20: DeprecationWarning: Conversion of an array with ndim > 0 to a scalar is deprecated, and will error in future. Ensure you extract a single element from your array before performing this operation. (Deprecated NumPy 1.25.)\n",
            "  hatakaresipolinom += (float(y[i]) - float(y_pred[i])) ** 2  # Skalar değer için `y_pred[i]`\n",
            "<ipython-input-16-dfdb8720a8db>:20: DeprecationWarning: Conversion of an array with ndim > 0 to a scalar is deprecated, and will error in future. Ensure you extract a single element from your array before performing this operation. (Deprecated NumPy 1.25.)\n",
            "  hatakaresipolinom += (float(y[i]) - float(y_pred[i])) ** 2  # Skalar değer için `y_pred[i]`\n",
            "<ipython-input-16-dfdb8720a8db>:20: DeprecationWarning: Conversion of an array with ndim > 0 to a scalar is deprecated, and will error in future. Ensure you extract a single element from your array before performing this operation. (Deprecated NumPy 1.25.)\n",
            "  hatakaresipolinom += (float(y[i]) - float(y_pred[i])) ** 2  # Skalar değer için `y_pred[i]`\n",
            "<ipython-input-16-dfdb8720a8db>:20: DeprecationWarning: Conversion of an array with ndim > 0 to a scalar is deprecated, and will error in future. Ensure you extract a single element from your array before performing this operation. (Deprecated NumPy 1.25.)\n",
            "  hatakaresipolinom += (float(y[i]) - float(y_pred[i])) ** 2  # Skalar değer için `y_pred[i]`\n",
            "<ipython-input-16-dfdb8720a8db>:20: DeprecationWarning: Conversion of an array with ndim > 0 to a scalar is deprecated, and will error in future. Ensure you extract a single element from your array before performing this operation. (Deprecated NumPy 1.25.)\n",
            "  hatakaresipolinom += (float(y[i]) - float(y_pred[i])) ** 2  # Skalar değer için `y_pred[i]`\n",
            "<ipython-input-16-dfdb8720a8db>:20: DeprecationWarning: Conversion of an array with ndim > 0 to a scalar is deprecated, and will error in future. Ensure you extract a single element from your array before performing this operation. (Deprecated NumPy 1.25.)\n",
            "  hatakaresipolinom += (float(y[i]) - float(y_pred[i])) ** 2  # Skalar değer için `y_pred[i]`\n"
          ]
        },
        {
          "output_type": "stream",
          "name": "stdout",
          "text": [
            "58 inci dereceden fonksiyonda hata: 1.694\n",
            "59 inci dereceden fonksiyonda hata: 1.754\n",
            "60 inci dereceden fonksiyonda hata: 1.814\n",
            "61 inci dereceden fonksiyonda hata: 1.874\n",
            "62 inci dereceden fonksiyonda hata: 1.935\n",
            "63 inci dereceden fonksiyonda hata: 1.997"
          ]
        },
        {
          "output_type": "stream",
          "name": "stderr",
          "text": [
            "<ipython-input-16-dfdb8720a8db>:20: DeprecationWarning: Conversion of an array with ndim > 0 to a scalar is deprecated, and will error in future. Ensure you extract a single element from your array before performing this operation. (Deprecated NumPy 1.25.)\n",
            "  hatakaresipolinom += (float(y[i]) - float(y_pred[i])) ** 2  # Skalar değer için `y_pred[i]`\n",
            "<ipython-input-16-dfdb8720a8db>:20: DeprecationWarning: Conversion of an array with ndim > 0 to a scalar is deprecated, and will error in future. Ensure you extract a single element from your array before performing this operation. (Deprecated NumPy 1.25.)\n",
            "  hatakaresipolinom += (float(y[i]) - float(y_pred[i])) ** 2  # Skalar değer için `y_pred[i]`\n",
            "<ipython-input-16-dfdb8720a8db>:20: DeprecationWarning: Conversion of an array with ndim > 0 to a scalar is deprecated, and will error in future. Ensure you extract a single element from your array before performing this operation. (Deprecated NumPy 1.25.)\n",
            "  hatakaresipolinom += (float(y[i]) - float(y_pred[i])) ** 2  # Skalar değer için `y_pred[i]`\n",
            "<ipython-input-16-dfdb8720a8db>:20: DeprecationWarning: Conversion of an array with ndim > 0 to a scalar is deprecated, and will error in future. Ensure you extract a single element from your array before performing this operation. (Deprecated NumPy 1.25.)\n",
            "  hatakaresipolinom += (float(y[i]) - float(y_pred[i])) ** 2  # Skalar değer için `y_pred[i]`\n",
            "<ipython-input-16-dfdb8720a8db>:20: DeprecationWarning: Conversion of an array with ndim > 0 to a scalar is deprecated, and will error in future. Ensure you extract a single element from your array before performing this operation. (Deprecated NumPy 1.25.)\n",
            "  hatakaresipolinom += (float(y[i]) - float(y_pred[i])) ** 2  # Skalar değer için `y_pred[i]`\n",
            "<ipython-input-16-dfdb8720a8db>:20: DeprecationWarning: Conversion of an array with ndim > 0 to a scalar is deprecated, and will error in future. Ensure you extract a single element from your array before performing this operation. (Deprecated NumPy 1.25.)\n",
            "  hatakaresipolinom += (float(y[i]) - float(y_pred[i])) ** 2  # Skalar değer için `y_pred[i]`\n"
          ]
        },
        {
          "output_type": "stream",
          "name": "stdout",
          "text": [
            "\n",
            "64 inci dereceden fonksiyonda hata: 2.058\n",
            "65 inci dereceden fonksiyonda hata: 2.120\n",
            "66 inci dereceden fonksiyonda hata: 2.181\n",
            "67 inci dereceden fonksiyonda hata: 2.243\n",
            "68 inci dereceden fonksiyonda hata: 2.304\n",
            "69 inci dereceden fonksiyonda hata: 2.365\n"
          ]
        },
        {
          "output_type": "stream",
          "name": "stderr",
          "text": [
            "<ipython-input-16-dfdb8720a8db>:20: DeprecationWarning: Conversion of an array with ndim > 0 to a scalar is deprecated, and will error in future. Ensure you extract a single element from your array before performing this operation. (Deprecated NumPy 1.25.)\n",
            "  hatakaresipolinom += (float(y[i]) - float(y_pred[i])) ** 2  # Skalar değer için `y_pred[i]`\n",
            "<ipython-input-16-dfdb8720a8db>:20: DeprecationWarning: Conversion of an array with ndim > 0 to a scalar is deprecated, and will error in future. Ensure you extract a single element from your array before performing this operation. (Deprecated NumPy 1.25.)\n",
            "  hatakaresipolinom += (float(y[i]) - float(y_pred[i])) ** 2  # Skalar değer için `y_pred[i]`\n",
            "<ipython-input-16-dfdb8720a8db>:20: DeprecationWarning: Conversion of an array with ndim > 0 to a scalar is deprecated, and will error in future. Ensure you extract a single element from your array before performing this operation. (Deprecated NumPy 1.25.)\n",
            "  hatakaresipolinom += (float(y[i]) - float(y_pred[i])) ** 2  # Skalar değer için `y_pred[i]`\n",
            "<ipython-input-16-dfdb8720a8db>:20: DeprecationWarning: Conversion of an array with ndim > 0 to a scalar is deprecated, and will error in future. Ensure you extract a single element from your array before performing this operation. (Deprecated NumPy 1.25.)\n",
            "  hatakaresipolinom += (float(y[i]) - float(y_pred[i])) ** 2  # Skalar değer için `y_pred[i]`\n",
            "<ipython-input-16-dfdb8720a8db>:20: DeprecationWarning: Conversion of an array with ndim > 0 to a scalar is deprecated, and will error in future. Ensure you extract a single element from your array before performing this operation. (Deprecated NumPy 1.25.)\n",
            "  hatakaresipolinom += (float(y[i]) - float(y_pred[i])) ** 2  # Skalar değer için `y_pred[i]`\n",
            "<ipython-input-16-dfdb8720a8db>:20: DeprecationWarning: Conversion of an array with ndim > 0 to a scalar is deprecated, and will error in future. Ensure you extract a single element from your array before performing this operation. (Deprecated NumPy 1.25.)\n",
            "  hatakaresipolinom += (float(y[i]) - float(y_pred[i])) ** 2  # Skalar değer için `y_pred[i]`\n"
          ]
        },
        {
          "output_type": "stream",
          "name": "stdout",
          "text": [
            "70 inci dereceden fonksiyonda hata: 2.425\n",
            "71 inci dereceden fonksiyonda hata: 2.485\n",
            "72 inci dereceden fonksiyonda hata: 2.545\n",
            "73 inci dereceden fonksiyonda hata: 2.604\n",
            "74 inci dereceden fonksiyonda hata: 2.663\n",
            "75 inci dereceden fonksiyonda hata: 2.721\n"
          ]
        },
        {
          "output_type": "stream",
          "name": "stderr",
          "text": [
            "<ipython-input-16-dfdb8720a8db>:20: DeprecationWarning: Conversion of an array with ndim > 0 to a scalar is deprecated, and will error in future. Ensure you extract a single element from your array before performing this operation. (Deprecated NumPy 1.25.)\n",
            "  hatakaresipolinom += (float(y[i]) - float(y_pred[i])) ** 2  # Skalar değer için `y_pred[i]`\n",
            "<ipython-input-16-dfdb8720a8db>:20: DeprecationWarning: Conversion of an array with ndim > 0 to a scalar is deprecated, and will error in future. Ensure you extract a single element from your array before performing this operation. (Deprecated NumPy 1.25.)\n",
            "  hatakaresipolinom += (float(y[i]) - float(y_pred[i])) ** 2  # Skalar değer için `y_pred[i]`\n",
            "<ipython-input-16-dfdb8720a8db>:20: DeprecationWarning: Conversion of an array with ndim > 0 to a scalar is deprecated, and will error in future. Ensure you extract a single element from your array before performing this operation. (Deprecated NumPy 1.25.)\n",
            "  hatakaresipolinom += (float(y[i]) - float(y_pred[i])) ** 2  # Skalar değer için `y_pred[i]`\n",
            "<ipython-input-16-dfdb8720a8db>:20: DeprecationWarning: Conversion of an array with ndim > 0 to a scalar is deprecated, and will error in future. Ensure you extract a single element from your array before performing this operation. (Deprecated NumPy 1.25.)\n",
            "  hatakaresipolinom += (float(y[i]) - float(y_pred[i])) ** 2  # Skalar değer için `y_pred[i]`\n",
            "<ipython-input-16-dfdb8720a8db>:20: DeprecationWarning: Conversion of an array with ndim > 0 to a scalar is deprecated, and will error in future. Ensure you extract a single element from your array before performing this operation. (Deprecated NumPy 1.25.)\n",
            "  hatakaresipolinom += (float(y[i]) - float(y_pred[i])) ** 2  # Skalar değer için `y_pred[i]`\n",
            "<ipython-input-16-dfdb8720a8db>:20: DeprecationWarning: Conversion of an array with ndim > 0 to a scalar is deprecated, and will error in future. Ensure you extract a single element from your array before performing this operation. (Deprecated NumPy 1.25.)\n",
            "  hatakaresipolinom += (float(y[i]) - float(y_pred[i])) ** 2  # Skalar değer için `y_pred[i]`\n",
            "<ipython-input-16-dfdb8720a8db>:20: DeprecationWarning: Conversion of an array with ndim > 0 to a scalar is deprecated, and will error in future. Ensure you extract a single element from your array before performing this operation. (Deprecated NumPy 1.25.)\n",
            "  hatakaresipolinom += (float(y[i]) - float(y_pred[i])) ** 2  # Skalar değer için `y_pred[i]`\n",
            "<ipython-input-16-dfdb8720a8db>:20: DeprecationWarning: Conversion of an array with ndim > 0 to a scalar is deprecated, and will error in future. Ensure you extract a single element from your array before performing this operation. (Deprecated NumPy 1.25.)\n",
            "  hatakaresipolinom += (float(y[i]) - float(y_pred[i])) ** 2  # Skalar değer için `y_pred[i]`\n",
            "<ipython-input-16-dfdb8720a8db>:20: DeprecationWarning: Conversion of an array with ndim > 0 to a scalar is deprecated, and will error in future. Ensure you extract a single element from your array before performing this operation. (Deprecated NumPy 1.25.)\n",
            "  hatakaresipolinom += (float(y[i]) - float(y_pred[i])) ** 2  # Skalar değer için `y_pred[i]`\n",
            "<ipython-input-16-dfdb8720a8db>:20: DeprecationWarning: Conversion of an array with ndim > 0 to a scalar is deprecated, and will error in future. Ensure you extract a single element from your array before performing this operation. (Deprecated NumPy 1.25.)\n",
            "  hatakaresipolinom += (float(y[i]) - float(y_pred[i])) ** 2  # Skalar değer için `y_pred[i]`\n",
            "<ipython-input-16-dfdb8720a8db>:20: DeprecationWarning: Conversion of an array with ndim > 0 to a scalar is deprecated, and will error in future. Ensure you extract a single element from your array before performing this operation. (Deprecated NumPy 1.25.)\n",
            "  hatakaresipolinom += (float(y[i]) - float(y_pred[i])) ** 2  # Skalar değer için `y_pred[i]`\n",
            "<ipython-input-16-dfdb8720a8db>:20: DeprecationWarning: Conversion of an array with ndim > 0 to a scalar is deprecated, and will error in future. Ensure you extract a single element from your array before performing this operation. (Deprecated NumPy 1.25.)\n",
            "  hatakaresipolinom += (float(y[i]) - float(y_pred[i])) ** 2  # Skalar değer için `y_pred[i]`\n"
          ]
        },
        {
          "output_type": "stream",
          "name": "stdout",
          "text": [
            "76 inci dereceden fonksiyonda hata: 2.778\n",
            "77 inci dereceden fonksiyonda hata: 2.835\n",
            "78 inci dereceden fonksiyonda hata: 2.891\n",
            "79 inci dereceden fonksiyonda hata: 2.946\n",
            "80 inci dereceden fonksiyonda hata: 3.001\n",
            "81 inci dereceden fonksiyonda hata: 3.055\n",
            "82 inci dereceden fonksiyonda hata: 3.108\n",
            "83 inci dereceden fonksiyonda hata: 3.161\n",
            "84 inci dereceden fonksiyonda hata: 3.212\n",
            "85 inci dereceden fonksiyonda hata: 3.263\n",
            "86 inci dereceden fonksiyonda hata: 3.313\n",
            "87 inci dereceden fonksiyonda hata: 3.363\n"
          ]
        },
        {
          "output_type": "stream",
          "name": "stderr",
          "text": [
            "<ipython-input-16-dfdb8720a8db>:20: DeprecationWarning: Conversion of an array with ndim > 0 to a scalar is deprecated, and will error in future. Ensure you extract a single element from your array before performing this operation. (Deprecated NumPy 1.25.)\n",
            "  hatakaresipolinom += (float(y[i]) - float(y_pred[i])) ** 2  # Skalar değer için `y_pred[i]`\n",
            "<ipython-input-16-dfdb8720a8db>:20: DeprecationWarning: Conversion of an array with ndim > 0 to a scalar is deprecated, and will error in future. Ensure you extract a single element from your array before performing this operation. (Deprecated NumPy 1.25.)\n",
            "  hatakaresipolinom += (float(y[i]) - float(y_pred[i])) ** 2  # Skalar değer için `y_pred[i]`\n",
            "<ipython-input-16-dfdb8720a8db>:20: DeprecationWarning: Conversion of an array with ndim > 0 to a scalar is deprecated, and will error in future. Ensure you extract a single element from your array before performing this operation. (Deprecated NumPy 1.25.)\n",
            "  hatakaresipolinom += (float(y[i]) - float(y_pred[i])) ** 2  # Skalar değer için `y_pred[i]`\n",
            "<ipython-input-16-dfdb8720a8db>:20: DeprecationWarning: Conversion of an array with ndim > 0 to a scalar is deprecated, and will error in future. Ensure you extract a single element from your array before performing this operation. (Deprecated NumPy 1.25.)\n",
            "  hatakaresipolinom += (float(y[i]) - float(y_pred[i])) ** 2  # Skalar değer için `y_pred[i]`\n",
            "<ipython-input-16-dfdb8720a8db>:20: DeprecationWarning: Conversion of an array with ndim > 0 to a scalar is deprecated, and will error in future. Ensure you extract a single element from your array before performing this operation. (Deprecated NumPy 1.25.)\n",
            "  hatakaresipolinom += (float(y[i]) - float(y_pred[i])) ** 2  # Skalar değer için `y_pred[i]`\n",
            "<ipython-input-16-dfdb8720a8db>:20: DeprecationWarning: Conversion of an array with ndim > 0 to a scalar is deprecated, and will error in future. Ensure you extract a single element from your array before performing this operation. (Deprecated NumPy 1.25.)\n",
            "  hatakaresipolinom += (float(y[i]) - float(y_pred[i])) ** 2  # Skalar değer için `y_pred[i]`\n",
            "<ipython-input-16-dfdb8720a8db>:20: DeprecationWarning: Conversion of an array with ndim > 0 to a scalar is deprecated, and will error in future. Ensure you extract a single element from your array before performing this operation. (Deprecated NumPy 1.25.)\n",
            "  hatakaresipolinom += (float(y[i]) - float(y_pred[i])) ** 2  # Skalar değer için `y_pred[i]`\n",
            "<ipython-input-16-dfdb8720a8db>:20: DeprecationWarning: Conversion of an array with ndim > 0 to a scalar is deprecated, and will error in future. Ensure you extract a single element from your array before performing this operation. (Deprecated NumPy 1.25.)\n",
            "  hatakaresipolinom += (float(y[i]) - float(y_pred[i])) ** 2  # Skalar değer için `y_pred[i]`\n",
            "<ipython-input-16-dfdb8720a8db>:20: DeprecationWarning: Conversion of an array with ndim > 0 to a scalar is deprecated, and will error in future. Ensure you extract a single element from your array before performing this operation. (Deprecated NumPy 1.25.)\n",
            "  hatakaresipolinom += (float(y[i]) - float(y_pred[i])) ** 2  # Skalar değer için `y_pred[i]`\n"
          ]
        },
        {
          "output_type": "stream",
          "name": "stdout",
          "text": [
            "88 inci dereceden fonksiyonda hata: 3.412\n",
            "89 inci dereceden fonksiyonda hata: 3.460\n",
            "90 inci dereceden fonksiyonda hata: 3.507\n",
            "91 inci dereceden fonksiyonda hata: 3.553\n",
            "92 inci dereceden fonksiyonda hata: 3.599\n",
            "93 inci dereceden fonksiyonda hata: 3.644\n",
            "94 inci dereceden fonksiyonda hata: 3.688\n",
            "95 inci dereceden fonksiyonda hata: 4.861\n",
            "96 inci dereceden fonksiyonda hata: 4.896\n"
          ]
        },
        {
          "output_type": "stream",
          "name": "stderr",
          "text": [
            "<ipython-input-16-dfdb8720a8db>:20: DeprecationWarning: Conversion of an array with ndim > 0 to a scalar is deprecated, and will error in future. Ensure you extract a single element from your array before performing this operation. (Deprecated NumPy 1.25.)\n",
            "  hatakaresipolinom += (float(y[i]) - float(y_pred[i])) ** 2  # Skalar değer için `y_pred[i]`\n",
            "<ipython-input-16-dfdb8720a8db>:20: DeprecationWarning: Conversion of an array with ndim > 0 to a scalar is deprecated, and will error in future. Ensure you extract a single element from your array before performing this operation. (Deprecated NumPy 1.25.)\n",
            "  hatakaresipolinom += (float(y[i]) - float(y_pred[i])) ** 2  # Skalar değer için `y_pred[i]`\n",
            "<ipython-input-16-dfdb8720a8db>:20: DeprecationWarning: Conversion of an array with ndim > 0 to a scalar is deprecated, and will error in future. Ensure you extract a single element from your array before performing this operation. (Deprecated NumPy 1.25.)\n",
            "  hatakaresipolinom += (float(y[i]) - float(y_pred[i])) ** 2  # Skalar değer için `y_pred[i]`\n",
            "<ipython-input-16-dfdb8720a8db>:20: DeprecationWarning: Conversion of an array with ndim > 0 to a scalar is deprecated, and will error in future. Ensure you extract a single element from your array before performing this operation. (Deprecated NumPy 1.25.)\n",
            "  hatakaresipolinom += (float(y[i]) - float(y_pred[i])) ** 2  # Skalar değer için `y_pred[i]`\n",
            "<ipython-input-16-dfdb8720a8db>:20: DeprecationWarning: Conversion of an array with ndim > 0 to a scalar is deprecated, and will error in future. Ensure you extract a single element from your array before performing this operation. (Deprecated NumPy 1.25.)\n",
            "  hatakaresipolinom += (float(y[i]) - float(y_pred[i])) ** 2  # Skalar değer için `y_pred[i]`\n",
            "<ipython-input-16-dfdb8720a8db>:20: DeprecationWarning: Conversion of an array with ndim > 0 to a scalar is deprecated, and will error in future. Ensure you extract a single element from your array before performing this operation. (Deprecated NumPy 1.25.)\n",
            "  hatakaresipolinom += (float(y[i]) - float(y_pred[i])) ** 2  # Skalar değer için `y_pred[i]`\n",
            "<ipython-input-16-dfdb8720a8db>:20: DeprecationWarning: Conversion of an array with ndim > 0 to a scalar is deprecated, and will error in future. Ensure you extract a single element from your array before performing this operation. (Deprecated NumPy 1.25.)\n",
            "  hatakaresipolinom += (float(y[i]) - float(y_pred[i])) ** 2  # Skalar değer için `y_pred[i]`\n"
          ]
        },
        {
          "output_type": "stream",
          "name": "stdout",
          "text": [
            "97 inci dereceden fonksiyonda hata: 4.931\n",
            "98 inci dereceden fonksiyonda hata: 4.966\n",
            "99 inci dereceden fonksiyonda hata: 5.000\n",
            "100 inci dereceden fonksiyonda hata: 5.033\n",
            "101 inci dereceden fonksiyonda hata: 5.065\n",
            "102 inci dereceden fonksiyonda hata: 5.097\n",
            "103 inci dereceden fonksiyonda hata: 5.129\n"
          ]
        },
        {
          "output_type": "stream",
          "name": "stderr",
          "text": [
            "<ipython-input-16-dfdb8720a8db>:20: DeprecationWarning: Conversion of an array with ndim > 0 to a scalar is deprecated, and will error in future. Ensure you extract a single element from your array before performing this operation. (Deprecated NumPy 1.25.)\n",
            "  hatakaresipolinom += (float(y[i]) - float(y_pred[i])) ** 2  # Skalar değer için `y_pred[i]`\n",
            "<ipython-input-16-dfdb8720a8db>:20: DeprecationWarning: Conversion of an array with ndim > 0 to a scalar is deprecated, and will error in future. Ensure you extract a single element from your array before performing this operation. (Deprecated NumPy 1.25.)\n",
            "  hatakaresipolinom += (float(y[i]) - float(y_pred[i])) ** 2  # Skalar değer için `y_pred[i]`\n",
            "<ipython-input-16-dfdb8720a8db>:20: DeprecationWarning: Conversion of an array with ndim > 0 to a scalar is deprecated, and will error in future. Ensure you extract a single element from your array before performing this operation. (Deprecated NumPy 1.25.)\n",
            "  hatakaresipolinom += (float(y[i]) - float(y_pred[i])) ** 2  # Skalar değer için `y_pred[i]`\n",
            "<ipython-input-16-dfdb8720a8db>:20: DeprecationWarning: Conversion of an array with ndim > 0 to a scalar is deprecated, and will error in future. Ensure you extract a single element from your array before performing this operation. (Deprecated NumPy 1.25.)\n",
            "  hatakaresipolinom += (float(y[i]) - float(y_pred[i])) ** 2  # Skalar değer için `y_pred[i]`\n",
            "<ipython-input-16-dfdb8720a8db>:20: DeprecationWarning: Conversion of an array with ndim > 0 to a scalar is deprecated, and will error in future. Ensure you extract a single element from your array before performing this operation. (Deprecated NumPy 1.25.)\n",
            "  hatakaresipolinom += (float(y[i]) - float(y_pred[i])) ** 2  # Skalar değer için `y_pred[i]`\n",
            "<ipython-input-16-dfdb8720a8db>:20: DeprecationWarning: Conversion of an array with ndim > 0 to a scalar is deprecated, and will error in future. Ensure you extract a single element from your array before performing this operation. (Deprecated NumPy 1.25.)\n",
            "  hatakaresipolinom += (float(y[i]) - float(y_pred[i])) ** 2  # Skalar değer için `y_pred[i]`\n",
            "<ipython-input-16-dfdb8720a8db>:20: DeprecationWarning: Conversion of an array with ndim > 0 to a scalar is deprecated, and will error in future. Ensure you extract a single element from your array before performing this operation. (Deprecated NumPy 1.25.)\n",
            "  hatakaresipolinom += (float(y[i]) - float(y_pred[i])) ** 2  # Skalar değer için `y_pred[i]`\n",
            "<ipython-input-16-dfdb8720a8db>:20: DeprecationWarning: Conversion of an array with ndim > 0 to a scalar is deprecated, and will error in future. Ensure you extract a single element from your array before performing this operation. (Deprecated NumPy 1.25.)\n",
            "  hatakaresipolinom += (float(y[i]) - float(y_pred[i])) ** 2  # Skalar değer için `y_pred[i]`\n",
            "<ipython-input-16-dfdb8720a8db>:20: DeprecationWarning: Conversion of an array with ndim > 0 to a scalar is deprecated, and will error in future. Ensure you extract a single element from your array before performing this operation. (Deprecated NumPy 1.25.)\n",
            "  hatakaresipolinom += (float(y[i]) - float(y_pred[i])) ** 2  # Skalar değer için `y_pred[i]`\n",
            "<ipython-input-16-dfdb8720a8db>:20: DeprecationWarning: Conversion of an array with ndim > 0 to a scalar is deprecated, and will error in future. Ensure you extract a single element from your array before performing this operation. (Deprecated NumPy 1.25.)\n",
            "  hatakaresipolinom += (float(y[i]) - float(y_pred[i])) ** 2  # Skalar değer için `y_pred[i]`\n",
            "<ipython-input-16-dfdb8720a8db>:20: DeprecationWarning: Conversion of an array with ndim > 0 to a scalar is deprecated, and will error in future. Ensure you extract a single element from your array before performing this operation. (Deprecated NumPy 1.25.)\n",
            "  hatakaresipolinom += (float(y[i]) - float(y_pred[i])) ** 2  # Skalar değer için `y_pred[i]`\n",
            "<ipython-input-16-dfdb8720a8db>:20: DeprecationWarning: Conversion of an array with ndim > 0 to a scalar is deprecated, and will error in future. Ensure you extract a single element from your array before performing this operation. (Deprecated NumPy 1.25.)\n",
            "  hatakaresipolinom += (float(y[i]) - float(y_pred[i])) ** 2  # Skalar değer için `y_pred[i]`\n",
            "<ipython-input-16-dfdb8720a8db>:20: DeprecationWarning: Conversion of an array with ndim > 0 to a scalar is deprecated, and will error in future. Ensure you extract a single element from your array before performing this operation. (Deprecated NumPy 1.25.)\n",
            "  hatakaresipolinom += (float(y[i]) - float(y_pred[i])) ** 2  # Skalar değer için `y_pred[i]`\n",
            "<ipython-input-16-dfdb8720a8db>:20: DeprecationWarning: Conversion of an array with ndim > 0 to a scalar is deprecated, and will error in future. Ensure you extract a single element from your array before performing this operation. (Deprecated NumPy 1.25.)\n",
            "  hatakaresipolinom += (float(y[i]) - float(y_pred[i])) ** 2  # Skalar değer için `y_pred[i]`\n",
            "<ipython-input-16-dfdb8720a8db>:20: DeprecationWarning: Conversion of an array with ndim > 0 to a scalar is deprecated, and will error in future. Ensure you extract a single element from your array before performing this operation. (Deprecated NumPy 1.25.)\n",
            "  hatakaresipolinom += (float(y[i]) - float(y_pred[i])) ** 2  # Skalar değer için `y_pred[i]`\n",
            "<ipython-input-16-dfdb8720a8db>:20: DeprecationWarning: Conversion of an array with ndim > 0 to a scalar is deprecated, and will error in future. Ensure you extract a single element from your array before performing this operation. (Deprecated NumPy 1.25.)\n",
            "  hatakaresipolinom += (float(y[i]) - float(y_pred[i])) ** 2  # Skalar değer için `y_pred[i]`\n",
            "<ipython-input-16-dfdb8720a8db>:20: DeprecationWarning: Conversion of an array with ndim > 0 to a scalar is deprecated, and will error in future. Ensure you extract a single element from your array before performing this operation. (Deprecated NumPy 1.25.)\n",
            "  hatakaresipolinom += (float(y[i]) - float(y_pred[i])) ** 2  # Skalar değer için `y_pred[i]`\n"
          ]
        },
        {
          "output_type": "stream",
          "name": "stdout",
          "text": [
            "104 inci dereceden fonksiyonda hata: 5.160\n",
            "105 inci dereceden fonksiyonda hata: 5.190\n",
            "106 inci dereceden fonksiyonda hata: 5.220\n",
            "107 inci dereceden fonksiyonda hata: 5.249\n",
            "108 inci dereceden fonksiyonda hata: 5.278\n",
            "109 inci dereceden fonksiyonda hata: 5.306\n",
            "110 inci dereceden fonksiyonda hata: 5.334\n",
            "111 inci dereceden fonksiyonda hata: 5.362\n",
            "112 inci dereceden fonksiyonda hata: 5.388\n",
            "113 inci dereceden fonksiyonda hata: 5.415\n",
            "114 inci dereceden fonksiyonda hata: 5.441\n",
            "115 inci dereceden fonksiyonda hata: 5.467\n",
            "116 inci dereceden fonksiyonda hata: 5.492\n",
            "117 inci dereceden fonksiyonda hata: 5.517\n",
            "118 inci dereceden fonksiyonda hata: 5.541\n",
            "119 inci dereceden fonksiyonda hata: 5.566\n",
            "120 inci dereceden fonksiyonda hata: 5.589\n",
            "121 inci dereceden fonksiyonda hata: 5.613\n",
            "122 inci dereceden fonksiyonda hata: 5.636\n",
            "123 inci dereceden fonksiyonda hata: 5.658\n",
            "124 inci dereceden fonksiyonda hata: 5.681\n",
            "125 inci dereceden fonksiyonda hata: 5.703\n",
            "126 inci dereceden fonksiyonda hata: 5.724\n",
            "127 inci dereceden fonksiyonda hata: 5.746\n",
            "128 inci dereceden fonksiyonda hata: 5.767\n"
          ]
        },
        {
          "output_type": "stream",
          "name": "stderr",
          "text": [
            "<ipython-input-16-dfdb8720a8db>:20: DeprecationWarning: Conversion of an array with ndim > 0 to a scalar is deprecated, and will error in future. Ensure you extract a single element from your array before performing this operation. (Deprecated NumPy 1.25.)\n",
            "  hatakaresipolinom += (float(y[i]) - float(y_pred[i])) ** 2  # Skalar değer için `y_pred[i]`\n",
            "<ipython-input-16-dfdb8720a8db>:20: DeprecationWarning: Conversion of an array with ndim > 0 to a scalar is deprecated, and will error in future. Ensure you extract a single element from your array before performing this operation. (Deprecated NumPy 1.25.)\n",
            "  hatakaresipolinom += (float(y[i]) - float(y_pred[i])) ** 2  # Skalar değer için `y_pred[i]`\n",
            "<ipython-input-16-dfdb8720a8db>:20: DeprecationWarning: Conversion of an array with ndim > 0 to a scalar is deprecated, and will error in future. Ensure you extract a single element from your array before performing this operation. (Deprecated NumPy 1.25.)\n",
            "  hatakaresipolinom += (float(y[i]) - float(y_pred[i])) ** 2  # Skalar değer için `y_pred[i]`\n",
            "<ipython-input-16-dfdb8720a8db>:20: DeprecationWarning: Conversion of an array with ndim > 0 to a scalar is deprecated, and will error in future. Ensure you extract a single element from your array before performing this operation. (Deprecated NumPy 1.25.)\n",
            "  hatakaresipolinom += (float(y[i]) - float(y_pred[i])) ** 2  # Skalar değer için `y_pred[i]`\n",
            "<ipython-input-16-dfdb8720a8db>:20: DeprecationWarning: Conversion of an array with ndim > 0 to a scalar is deprecated, and will error in future. Ensure you extract a single element from your array before performing this operation. (Deprecated NumPy 1.25.)\n",
            "  hatakaresipolinom += (float(y[i]) - float(y_pred[i])) ** 2  # Skalar değer için `y_pred[i]`\n",
            "<ipython-input-16-dfdb8720a8db>:20: DeprecationWarning: Conversion of an array with ndim > 0 to a scalar is deprecated, and will error in future. Ensure you extract a single element from your array before performing this operation. (Deprecated NumPy 1.25.)\n",
            "  hatakaresipolinom += (float(y[i]) - float(y_pred[i])) ** 2  # Skalar değer için `y_pred[i]`\n",
            "<ipython-input-16-dfdb8720a8db>:20: DeprecationWarning: Conversion of an array with ndim > 0 to a scalar is deprecated, and will error in future. Ensure you extract a single element from your array before performing this operation. (Deprecated NumPy 1.25.)\n",
            "  hatakaresipolinom += (float(y[i]) - float(y_pred[i])) ** 2  # Skalar değer için `y_pred[i]`\n",
            "<ipython-input-16-dfdb8720a8db>:20: DeprecationWarning: Conversion of an array with ndim > 0 to a scalar is deprecated, and will error in future. Ensure you extract a single element from your array before performing this operation. (Deprecated NumPy 1.25.)\n",
            "  hatakaresipolinom += (float(y[i]) - float(y_pred[i])) ** 2  # Skalar değer için `y_pred[i]`\n",
            "/usr/local/lib/python3.11/dist-packages/sklearn/preprocessing/_polynomial.py:564: RuntimeWarning: overflow encountered in multiply\n",
            "  np.multiply(\n"
          ]
        },
        {
          "output_type": "error",
          "ename": "ValueError",
          "evalue": "Input X contains infinity or a value too large for dtype('float64').",
          "traceback": [
            "\u001b[0;31m---------------------------------------------------------------------------\u001b[0m",
            "\u001b[0;31mValueError\u001b[0m                                Traceback (most recent call last)",
            "\u001b[0;32m<ipython-input-16-dfdb8720a8db>\u001b[0m in \u001b[0;36m<cell line: 0>\u001b[0;34m()\u001b[0m\n\u001b[1;32m     14\u001b[0m \u001b[0;34m\u001b[0m\u001b[0m\n\u001b[1;32m     15\u001b[0m     \u001b[0mpolinommodel\u001b[0m \u001b[0;34m=\u001b[0m \u001b[0mLinearRegression\u001b[0m\u001b[0;34m(\u001b[0m\u001b[0;34m)\u001b[0m\u001b[0;34m\u001b[0m\u001b[0;34m\u001b[0m\u001b[0m\n\u001b[0;32m---> 16\u001b[0;31m     \u001b[0mpolinommodel\u001b[0m\u001b[0;34m.\u001b[0m\u001b[0mfit\u001b[0m\u001b[0;34m(\u001b[0m\u001b[0mXyeni\u001b[0m\u001b[0;34m,\u001b[0m \u001b[0my\u001b[0m\u001b[0;34m)\u001b[0m\u001b[0;34m\u001b[0m\u001b[0;34m\u001b[0m\u001b[0m\n\u001b[0m\u001b[1;32m     17\u001b[0m     \u001b[0my_pred\u001b[0m \u001b[0;34m=\u001b[0m \u001b[0mpolinommodel\u001b[0m\u001b[0;34m.\u001b[0m\u001b[0mpredict\u001b[0m\u001b[0;34m(\u001b[0m\u001b[0mXyeni\u001b[0m\u001b[0;34m)\u001b[0m  \u001b[0;31m# Tahminleri bir değişkene alıyoruz\u001b[0m\u001b[0;34m\u001b[0m\u001b[0;34m\u001b[0m\u001b[0m\n\u001b[1;32m     18\u001b[0m \u001b[0;34m\u001b[0m\u001b[0m\n",
            "\u001b[0;32m/usr/local/lib/python3.11/dist-packages/sklearn/base.py\u001b[0m in \u001b[0;36mwrapper\u001b[0;34m(estimator, *args, **kwargs)\u001b[0m\n\u001b[1;32m   1387\u001b[0m                 )\n\u001b[1;32m   1388\u001b[0m             ):\n\u001b[0;32m-> 1389\u001b[0;31m                 \u001b[0;32mreturn\u001b[0m \u001b[0mfit_method\u001b[0m\u001b[0;34m(\u001b[0m\u001b[0mestimator\u001b[0m\u001b[0;34m,\u001b[0m \u001b[0;34m*\u001b[0m\u001b[0margs\u001b[0m\u001b[0;34m,\u001b[0m \u001b[0;34m**\u001b[0m\u001b[0mkwargs\u001b[0m\u001b[0;34m)\u001b[0m\u001b[0;34m\u001b[0m\u001b[0;34m\u001b[0m\u001b[0m\n\u001b[0m\u001b[1;32m   1390\u001b[0m \u001b[0;34m\u001b[0m\u001b[0m\n\u001b[1;32m   1391\u001b[0m         \u001b[0;32mreturn\u001b[0m \u001b[0mwrapper\u001b[0m\u001b[0;34m\u001b[0m\u001b[0;34m\u001b[0m\u001b[0m\n",
            "\u001b[0;32m/usr/local/lib/python3.11/dist-packages/sklearn/linear_model/_base.py\u001b[0m in \u001b[0;36mfit\u001b[0;34m(self, X, y, sample_weight)\u001b[0m\n\u001b[1;32m    599\u001b[0m         \u001b[0maccept_sparse\u001b[0m \u001b[0;34m=\u001b[0m \u001b[0;32mFalse\u001b[0m \u001b[0;32mif\u001b[0m \u001b[0mself\u001b[0m\u001b[0;34m.\u001b[0m\u001b[0mpositive\u001b[0m \u001b[0;32melse\u001b[0m \u001b[0;34m[\u001b[0m\u001b[0;34m\"csr\"\u001b[0m\u001b[0;34m,\u001b[0m \u001b[0;34m\"csc\"\u001b[0m\u001b[0;34m,\u001b[0m \u001b[0;34m\"coo\"\u001b[0m\u001b[0;34m]\u001b[0m\u001b[0;34m\u001b[0m\u001b[0;34m\u001b[0m\u001b[0m\n\u001b[1;32m    600\u001b[0m \u001b[0;34m\u001b[0m\u001b[0m\n\u001b[0;32m--> 601\u001b[0;31m         X, y = validate_data(\n\u001b[0m\u001b[1;32m    602\u001b[0m             \u001b[0mself\u001b[0m\u001b[0;34m,\u001b[0m\u001b[0;34m\u001b[0m\u001b[0;34m\u001b[0m\u001b[0m\n\u001b[1;32m    603\u001b[0m             \u001b[0mX\u001b[0m\u001b[0;34m,\u001b[0m\u001b[0;34m\u001b[0m\u001b[0;34m\u001b[0m\u001b[0m\n",
            "\u001b[0;32m/usr/local/lib/python3.11/dist-packages/sklearn/utils/validation.py\u001b[0m in \u001b[0;36mvalidate_data\u001b[0;34m(_estimator, X, y, reset, validate_separately, skip_check_array, **check_params)\u001b[0m\n\u001b[1;32m   2959\u001b[0m             \u001b[0my\u001b[0m \u001b[0;34m=\u001b[0m \u001b[0mcheck_array\u001b[0m\u001b[0;34m(\u001b[0m\u001b[0my\u001b[0m\u001b[0;34m,\u001b[0m \u001b[0minput_name\u001b[0m\u001b[0;34m=\u001b[0m\u001b[0;34m\"y\"\u001b[0m\u001b[0;34m,\u001b[0m \u001b[0;34m**\u001b[0m\u001b[0mcheck_y_params\u001b[0m\u001b[0;34m)\u001b[0m\u001b[0;34m\u001b[0m\u001b[0;34m\u001b[0m\u001b[0m\n\u001b[1;32m   2960\u001b[0m         \u001b[0;32melse\u001b[0m\u001b[0;34m:\u001b[0m\u001b[0;34m\u001b[0m\u001b[0;34m\u001b[0m\u001b[0m\n\u001b[0;32m-> 2961\u001b[0;31m             \u001b[0mX\u001b[0m\u001b[0;34m,\u001b[0m \u001b[0my\u001b[0m \u001b[0;34m=\u001b[0m \u001b[0mcheck_X_y\u001b[0m\u001b[0;34m(\u001b[0m\u001b[0mX\u001b[0m\u001b[0;34m,\u001b[0m \u001b[0my\u001b[0m\u001b[0;34m,\u001b[0m \u001b[0;34m**\u001b[0m\u001b[0mcheck_params\u001b[0m\u001b[0;34m)\u001b[0m\u001b[0;34m\u001b[0m\u001b[0;34m\u001b[0m\u001b[0m\n\u001b[0m\u001b[1;32m   2962\u001b[0m         \u001b[0mout\u001b[0m \u001b[0;34m=\u001b[0m \u001b[0mX\u001b[0m\u001b[0;34m,\u001b[0m \u001b[0my\u001b[0m\u001b[0;34m\u001b[0m\u001b[0;34m\u001b[0m\u001b[0m\n\u001b[1;32m   2963\u001b[0m \u001b[0;34m\u001b[0m\u001b[0m\n",
            "\u001b[0;32m/usr/local/lib/python3.11/dist-packages/sklearn/utils/validation.py\u001b[0m in \u001b[0;36mcheck_X_y\u001b[0;34m(X, y, accept_sparse, accept_large_sparse, dtype, order, copy, force_writeable, force_all_finite, ensure_all_finite, ensure_2d, allow_nd, multi_output, ensure_min_samples, ensure_min_features, y_numeric, estimator)\u001b[0m\n\u001b[1;32m   1368\u001b[0m     \u001b[0mensure_all_finite\u001b[0m \u001b[0;34m=\u001b[0m \u001b[0m_deprecate_force_all_finite\u001b[0m\u001b[0;34m(\u001b[0m\u001b[0mforce_all_finite\u001b[0m\u001b[0;34m,\u001b[0m \u001b[0mensure_all_finite\u001b[0m\u001b[0;34m)\u001b[0m\u001b[0;34m\u001b[0m\u001b[0;34m\u001b[0m\u001b[0m\n\u001b[1;32m   1369\u001b[0m \u001b[0;34m\u001b[0m\u001b[0m\n\u001b[0;32m-> 1370\u001b[0;31m     X = check_array(\n\u001b[0m\u001b[1;32m   1371\u001b[0m         \u001b[0mX\u001b[0m\u001b[0;34m,\u001b[0m\u001b[0;34m\u001b[0m\u001b[0;34m\u001b[0m\u001b[0m\n\u001b[1;32m   1372\u001b[0m         \u001b[0maccept_sparse\u001b[0m\u001b[0;34m=\u001b[0m\u001b[0maccept_sparse\u001b[0m\u001b[0;34m,\u001b[0m\u001b[0;34m\u001b[0m\u001b[0;34m\u001b[0m\u001b[0m\n",
            "\u001b[0;32m/usr/local/lib/python3.11/dist-packages/sklearn/utils/validation.py\u001b[0m in \u001b[0;36mcheck_array\u001b[0;34m(array, accept_sparse, accept_large_sparse, dtype, order, copy, force_writeable, force_all_finite, ensure_all_finite, ensure_non_negative, ensure_2d, allow_nd, ensure_min_samples, ensure_min_features, estimator, input_name)\u001b[0m\n\u001b[1;32m   1105\u001b[0m \u001b[0;34m\u001b[0m\u001b[0m\n\u001b[1;32m   1106\u001b[0m         \u001b[0;32mif\u001b[0m \u001b[0mensure_all_finite\u001b[0m\u001b[0;34m:\u001b[0m\u001b[0;34m\u001b[0m\u001b[0;34m\u001b[0m\u001b[0m\n\u001b[0;32m-> 1107\u001b[0;31m             _assert_all_finite(\n\u001b[0m\u001b[1;32m   1108\u001b[0m                 \u001b[0marray\u001b[0m\u001b[0;34m,\u001b[0m\u001b[0;34m\u001b[0m\u001b[0;34m\u001b[0m\u001b[0m\n\u001b[1;32m   1109\u001b[0m                 \u001b[0minput_name\u001b[0m\u001b[0;34m=\u001b[0m\u001b[0minput_name\u001b[0m\u001b[0;34m,\u001b[0m\u001b[0;34m\u001b[0m\u001b[0;34m\u001b[0m\u001b[0m\n",
            "\u001b[0;32m/usr/local/lib/python3.11/dist-packages/sklearn/utils/validation.py\u001b[0m in \u001b[0;36m_assert_all_finite\u001b[0;34m(X, allow_nan, msg_dtype, estimator_name, input_name)\u001b[0m\n\u001b[1;32m    118\u001b[0m         \u001b[0;32mreturn\u001b[0m\u001b[0;34m\u001b[0m\u001b[0;34m\u001b[0m\u001b[0m\n\u001b[1;32m    119\u001b[0m \u001b[0;34m\u001b[0m\u001b[0m\n\u001b[0;32m--> 120\u001b[0;31m     _assert_all_finite_element_wise(\n\u001b[0m\u001b[1;32m    121\u001b[0m         \u001b[0mX\u001b[0m\u001b[0;34m,\u001b[0m\u001b[0;34m\u001b[0m\u001b[0;34m\u001b[0m\u001b[0m\n\u001b[1;32m    122\u001b[0m         \u001b[0mxp\u001b[0m\u001b[0;34m=\u001b[0m\u001b[0mxp\u001b[0m\u001b[0;34m,\u001b[0m\u001b[0;34m\u001b[0m\u001b[0;34m\u001b[0m\u001b[0m\n",
            "\u001b[0;32m/usr/local/lib/python3.11/dist-packages/sklearn/utils/validation.py\u001b[0m in \u001b[0;36m_assert_all_finite_element_wise\u001b[0;34m(X, xp, allow_nan, msg_dtype, estimator_name, input_name)\u001b[0m\n\u001b[1;32m    167\u001b[0m                 \u001b[0;34m\"#estimators-that-handle-nan-values\"\u001b[0m\u001b[0;34m\u001b[0m\u001b[0;34m\u001b[0m\u001b[0m\n\u001b[1;32m    168\u001b[0m             )\n\u001b[0;32m--> 169\u001b[0;31m         \u001b[0;32mraise\u001b[0m \u001b[0mValueError\u001b[0m\u001b[0;34m(\u001b[0m\u001b[0mmsg_err\u001b[0m\u001b[0;34m)\u001b[0m\u001b[0;34m\u001b[0m\u001b[0;34m\u001b[0m\u001b[0m\n\u001b[0m\u001b[1;32m    170\u001b[0m \u001b[0;34m\u001b[0m\u001b[0m\n\u001b[1;32m    171\u001b[0m \u001b[0;34m\u001b[0m\u001b[0m\n",
            "\u001b[0;31mValueError\u001b[0m: Input X contains infinity or a value too large for dtype('float64')."
          ]
        }
      ]
    },
    {
      "cell_type": "code",
      "source": [
        "import os\n",
        "\n",
        "file_path2 = r\"/tmp/breast-cancer-wisconsin.data\"\n",
        "if os.path.exists(file_path2):\n",
        "    print(\"Dosya bulundu.\")\n",
        "else:\n",
        "    print(\"Dosya bulunamadı.\")"
      ],
      "metadata": {
        "colab": {
          "base_uri": "https://localhost:8080/"
        },
        "id": "X-bt6TgC9dxm",
        "outputId": "6cf21ab8-636f-4d2d-ab85-b4b58b74c00f"
      },
      "execution_count": null,
      "outputs": [
        {
          "output_type": "stream",
          "name": "stdout",
          "text": [
            "Dosya bulundu.\n"
          ]
        }
      ]
    },
    {
      "cell_type": "code",
      "source": [
        "#  k-nearest neighbors (KNN) algorithm kullanarak kanser datasetinden hasta ve sağlıklı insanları predict etme\n",
        "# 2 -> sağlıklı, 4-> kanserli\n",
        "\n",
        "import numpy as np\n",
        "from sklearn.impute import SimpleImputer\n",
        "from sklearn.neighbors import KNeighborsClassifier\n",
        "from sklearn.metrics import accuracy_score\n",
        "import pandas as pd\n",
        "\n",
        "\n",
        "\n",
        "# Veriyi yükle\n",
        "veri = pd.read_csv(file_path2)\n",
        "\n",
        "# '?' karakterlerini -99999 ile değiştir\n",
        "veri.replace('?', -99999, inplace=True)\n",
        "\n",
        "# 'id' sütununu düşür\n",
        "veri.drop(['id'], axis=1, inplace=True)\n",
        "\n",
        "# Hedef ve özellikleri ayır\n",
        "y = veri['benormal']\n",
        "x = veri.drop(['benormal'], axis=1)\n",
        "\n",
        "# Eksik değerleri doldurmak için SimpleImputer kullan\n",
        "imp = SimpleImputer(missing_values=-99999, strategy=\"mean\")\n",
        "x = imp.fit_transform(x)\n",
        "\n",
        "# K-Nearest Neighbors modelini oluştur ve eğit\n",
        "tahmin = KNeighborsClassifier(n_neighbors=3, weights='uniform', algorithm='auto', leaf_size=30, p=2, metric='euclidean')\n",
        "tahmin.fit(x, y)\n",
        "\n",
        "# Eğitim verisi üzerindeki tahminler ve doğruluk\n",
        "ytahmin = tahmin.predict(x)\n",
        "basari = accuracy_score(y, ytahmin)\n",
        "\n",
        "print(\"Yüzde\", basari * 100, \" oranında başarı sağlandı.\")\n",
        "\n",
        "# Yeni bir örnek üzerinde tahmin yap\n",
        "# Not: Burada girdi olarak verilen liste, modelin beklediği özellik sayısına uymalıdır.\n",
        "try:\n",
        "    print(tahmin.predict([[1, 2, 2, 2, 3, 2, 1, 2, 3]]))\n",
        "except ValueError as e:\n",
        "    print(\"Hata:\", e)\n",
        "\n",
        "\n",
        "\n",
        "# Farklı k-komşuluk değerleri seçildiğinde başarı oranının hesaplanması\n",
        "for z in range(25):\n",
        "    z = 2*z+1\n",
        "    print(\"En yakın\",z,\"komşu kullandığımızda tutarlılık oranımız\")\n",
        "    tahmin = KNeighborsClassifier(n_neighbors=z , weights='uniform', algorithm='auto', leaf_size=30, p=2, metric='euclidean')\n",
        "    tahmin.fit(x,y)\n",
        "    ytahmin = tahmin.predict(x)\n",
        "\n",
        "    basari = accuracy_score(y, ytahmin, normalize=True, sample_weight=None)\n",
        "    print(basari)\n"
      ],
      "metadata": {
        "colab": {
          "base_uri": "https://localhost:8080/"
        },
        "id": "ZY2M0DxW836a",
        "outputId": "fed5f972-cc78-4e91-edfb-be31ae880a1c"
      },
      "execution_count": null,
      "outputs": [
        {
          "output_type": "stream",
          "name": "stdout",
          "text": [
            "Yüzde 98.14020028612303  oranında başarı sağlandı.\n",
            "[2]\n",
            "En yakın 1 komşu kullandığımızda tutarlılık oranımız\n",
            "1.0\n",
            "En yakın 3 komşu kullandığımızda tutarlılık oranımız\n",
            "0.9814020028612304\n",
            "En yakın 5 komşu kullandığımızda tutarlılık oranımız\n",
            "0.9742489270386266\n",
            "En yakın 7 komşu kullandığımızda tutarlılık oranımız\n",
            "0.977110157367668\n",
            "En yakın 9 komşu kullandığımızda tutarlılık oranımız\n",
            "0.9742489270386266\n",
            "En yakın 11 komşu kullandığımızda tutarlılık oranımız\n",
            "0.9728183118741058\n",
            "En yakın 13 komşu kullandığımızda tutarlılık oranımız\n",
            "0.9685264663805436\n",
            "En yakın 15 komşu kullandığımızda tutarlılık oranımız\n",
            "0.9685264663805436\n",
            "En yakın 17 komşu kullandığımızda tutarlılık oranımız\n",
            "0.9685264663805436\n",
            "En yakın 19 komşu kullandığımızda tutarlılık oranımız\n",
            "0.9685264663805436\n",
            "En yakın 21 komşu kullandığımızda tutarlılık oranımız\n",
            "0.9685264663805436\n",
            "En yakın 23 komşu kullandığımızda tutarlılık oranımız\n",
            "0.9656652360515021\n",
            "En yakın 25 komşu kullandığımızda tutarlılık oranımız\n",
            "0.9685264663805436\n",
            "En yakın 27 komşu kullandığımızda tutarlılık oranımız\n",
            "0.9628040057224606\n",
            "En yakın 29 komşu kullandığımızda tutarlılık oranımız\n",
            "0.9642346208869814\n",
            "En yakın 31 komşu kullandığımızda tutarlılık oranımız\n",
            "0.9642346208869814\n",
            "En yakın 33 komşu kullandığımızda tutarlılık oranımız\n",
            "0.9642346208869814\n",
            "En yakın 35 komşu kullandığımızda tutarlılık oranımız\n",
            "0.9642346208869814\n",
            "En yakın 37 komşu kullandığımızda tutarlılık oranımız\n",
            "0.9642346208869814\n",
            "En yakın 39 komşu kullandığımızda tutarlılık oranımız\n",
            "0.9628040057224606\n",
            "En yakın 41 komşu kullandığımızda tutarlılık oranımız\n",
            "0.9613733905579399\n",
            "En yakın 43 komşu kullandığımızda tutarlılık oranımız\n",
            "0.9585121602288984\n",
            "En yakın 45 komşu kullandığımızda tutarlılık oranımız\n",
            "0.9585121602288984\n",
            "En yakın 47 komşu kullandığımızda tutarlılık oranımız\n",
            "0.9585121602288984\n",
            "En yakın 49 komşu kullandığımızda tutarlılık oranımız\n",
            "0.9585121602288984\n"
          ]
        }
      ]
    },
    {
      "cell_type": "code",
      "source": [
        "# K-fold cross validation yöntemi kullanarak kanser tespitinin yapılması\n",
        "# test ve train olarak 2 sınıfa ayrılıyor öncelikle\n",
        "\n",
        "import numpy as np\n",
        "from sklearn.neighbors import KNeighborsClassifier\n",
        "from sklearn.metrics import accuracy_score\n",
        "import pandas as pd\n",
        "from sklearn.impute import SimpleImputer\n",
        "from sklearn.model_selection import train_test_split\n",
        "from sklearn.preprocessing import StandardScaler\n",
        "\n",
        "\n",
        "\n",
        "imp= SimpleImputer(missing_values=-99999, strategy=\"mean\")\n",
        "\n",
        "X_train, X_test, y_train, y_test= train_test_split(x,y, test_size=0.2)\n",
        "x= imp.fit_transform(x)\n",
        "\n",
        "scaler=StandardScaler()\n",
        "scaler.fit(X_train)\n",
        "\n",
        "X_train=scaler.transform(X_train)\n",
        "X_test=scaler.transform(X_test)\n",
        "\n",
        "\"\"\"for z in range(25):\n",
        "    z = 2*z+1\n",
        "    print(\"En yakın\",z,\"komşu kullandığımızda tutarlılık oranımız\")\n",
        "    tahmin = KNeighborsClassifier(n_neighbors=z, weights='uniform', algorithm='auto', leaf_size=30, p=2, metric='euclidean', metric_params=None, n_jobs=1)\n",
        "    tahmin.fit(x,y)\n",
        "    ytahmin = tahmin.predict(x)\n",
        "\n",
        "    basari = accuracy_score(y, ytahmin, normalize=True, sample_weight=None)\n",
        "    print(basari)\"\"\"\n",
        "\n",
        "tahmin= KNeighborsClassifier(n_neighbors=3, weights='uniform', algorithm='auto', leaf_size=30, p=2, metric='euclidean', metric_params=None, n_jobs=1)\n",
        "tahmin.fit(X_train , y_train)\n",
        "ytahmin=tahmin.predict(x)\n",
        "basari= tahmin.score(X_test, y_test)\n",
        "print(\"Yüzde\",basari*100,\" oranında:\" )\n",
        "a= np.array([1,2,2,2,3,2,1,2,3]).reshape(1,-1)\n",
        "print(tahmin.predict(a))\n"
      ],
      "metadata": {
        "colab": {
          "base_uri": "https://localhost:8080/"
        },
        "id": "fhi32O5QRHOJ",
        "outputId": "3615e777-98e5-40e6-f044-9dab186cca4d"
      },
      "execution_count": null,
      "outputs": [
        {
          "output_type": "stream",
          "name": "stdout",
          "text": [
            "Yüzde 95.0  oranında:\n",
            "[4]\n"
          ]
        }
      ]
    },
    {
      "cell_type": "code",
      "source": [
        "# Makine Öğrenmesi 20 - Decision Tree Coding\n",
        "\n",
        "from sklearn.datasets import load_iris\n",
        "from sklearn import tree\n",
        "import pydotplus\n",
        "from sklearn import datasets\n",
        "from sklearn import metrics\n",
        "from sklearn.tree import DecisionTreeClassifier\n",
        "from sklearn.model_selection import cross_val_score\n",
        "import sklearn\n",
        "\n",
        "iris = datasets.load_iris()\n",
        "\n",
        "model = DecisionTreeClassifier()\n",
        "model.fit(iris.data, iris.target)\n",
        "\n",
        "# Tek bir örnek için tahmin yap\n",
        "sample = [6.7, 3.3, 5.7, 2.5]\n",
        "prediction = model.predict([sample])  # Listeyi iki boyutlu hale getir\n",
        "print(\"Tahmin edilen sınıf:\", prediction)\n",
        "print(\"Tahmin edilen sınıf ismi :\", iris.target_names [prediction] )\n",
        "\n",
        "# print(iris.target_names)"
      ],
      "metadata": {
        "colab": {
          "base_uri": "https://localhost:8080/"
        },
        "id": "Vb8cpE-kFVH0",
        "outputId": "9cf6b57a-b041-4a60-e0b5-d59f8402af80"
      },
      "execution_count": null,
      "outputs": [
        {
          "output_type": "stream",
          "name": "stdout",
          "text": [
            "Tahmin edilen sınıf: [2]\n",
            "Tahmin edilen sınıf ismi : ['virginica']\n",
            "['setosa' 'versicolor' 'virginica']\n"
          ]
        }
      ]
    },
    {
      "cell_type": "code",
      "source": [
        "# ders 21 . yapay sinir ağlarını öğrenelim\n",
        "# sadece bir nörona sahip bir sinir ağı oluşturma\n",
        "import numpy\n",
        "from numpy import exp, array, random,dot,mean,abs\n",
        "\n",
        "girdi = array  ( [ [0,0,1] , [1,1,1] ,  [1,0,1]  ])\n",
        "\n",
        "gerceksonuc = array  ( [ [0,1,1] ]).T\n",
        "\n",
        "agirlik = array ( [ [1.0, 1.0, 1.0] ] ).T\n",
        "\n",
        "for tekrar in range(100) :\n",
        "  hucredegeri = dot (girdi , agirlik)\n",
        "  #print(hucredegeri)\n",
        "\n",
        "  tahmin = 1/ (1 + exp (-hucredegeri) )\n",
        "  #print(tahmin)\n",
        "\n",
        "  agirlik =  agirlik + dot (girdi.T, ( ( gerceksonuc -tahmin)* tahmin *(1-tahmin) )   )\n",
        "\n",
        " # print ( str (numpy.mean (numpy.abs(gerceksonuc - tahmin ))))\n",
        "\n",
        "\n",
        "  # Tahmin yaptırma\n",
        "\n",
        "print( 1 / (1 + exp (- (dot (array( [1,0,0]), agirlik )))) )"
      ],
      "metadata": {
        "colab": {
          "base_uri": "https://localhost:8080/"
        },
        "id": "2tFGI5HSHJXT",
        "outputId": "7ea01329-8fb6-4d40-f841-ac2c6ed3d8eb"
      },
      "execution_count": null,
      "outputs": [
        {
          "output_type": "stream",
          "name": "stdout",
          "text": [
            "[0.97718978]\n"
          ]
        }
      ]
    },
    {
      "cell_type": "code",
      "source": [
        "# Filepath kontrol edilmesi\n",
        "import os\n",
        "\n",
        "file_path5 = r\"/tmp/dad.png\"\n",
        "if os.path.exists(file_path5):\n",
        "    print(\"Dosya bulundu.\")\n",
        "else:\n",
        "    print(\"Dosya bulunamadı.\")"
      ],
      "metadata": {
        "colab": {
          "base_uri": "https://localhost:8080/"
        },
        "id": "7rNN-s9j259n",
        "outputId": "15451c2f-f111-45a7-9a58-8390a4ede62c"
      },
      "execution_count": null,
      "outputs": [
        {
          "output_type": "stream",
          "name": "stdout",
          "text": [
            "Dosya bulundu.\n"
          ]
        }
      ]
    },
    {
      "cell_type": "code",
      "source": [
        "# Tensorflow uygulaması\n",
        "# El yazısı rakamı tanıma\n",
        "\n",
        "\n",
        "\n",
        "from tensorflow.examples.tutorials.mnist import input_data\n",
        "mnist = input_data.read_data_sets(\"MNIST_data/\", one_hot=True)\n",
        "import scipy.ndimage\n",
        "import tensorflow as tf\n",
        "import numpy as np\n",
        "\n",
        "x = tf.placeholder(tf.float32, [None, 784])\n",
        "\n",
        "W = tf.Variable(tf.zeros([784, 10]))\n",
        "\n",
        "b = tf.Variable(tf.zeros([10]))\n",
        "\n",
        "y = tf.nn.softmax(tf.matmul(x, W) + b)\n",
        "\n",
        "y_ = tf.placeholder(tf.float32, [None, 10])\n",
        "\n",
        "cross_entropy = tf.reduce_mean(-tf.reduce_sum(y_ * tf.log(y), reduction_indices=[1]))\n",
        "\n",
        "train_step = tf.train.GradientDescentOptimizer(0.5).minimize(cross_entropy)\n",
        "\n",
        "sess = tf.InteractiveSession()\n",
        "\n",
        "tf.global_variables_initializer().run()\n",
        "\n",
        "for _ in range(1000):\n",
        "  batch_xs, batch_ys = mnist.train.next_batch(100)\n",
        "  sess.run(train_step, feed_dict={x: batch_xs, y_: batch_ys})\n",
        "\n",
        "correct_prediction = tf.equal(tf.argmax(y,1), tf.argmax(y_,1))\n",
        "\n",
        "accuracy = tf.reduce_mean(tf.cast(correct_prediction, tf.float32))\n",
        "\n",
        "print(sess.run(accuracy, feed_dict={x: mnist.test.images, y_: mnist.test.labels}))\n",
        "\n",
        "cizim = np.vectorize(lambda x: 255 - x)(np.ndarray.flatten(scipy.ndimage.imread(file_path5, flatten=True)))\n",
        "\n",
        "sonuc = sess.run(tf.argmax(y, 1), feed_dict={x: [cizim]})\n",
        "\n",
        "print(sonuc)"
      ],
      "metadata": {
        "id": "isbyYwKl1jD9"
      },
      "execution_count": null,
      "outputs": []
    },
    {
      "cell_type": "code",
      "source": [
        "# Tensorflow 1- Keras Ve Mnist ile kavramları öğrenme, El yazısı Tanıma\n",
        "\n",
        "import tensorflow as tf\n",
        "from tensorflow.keras import layers, models\n",
        "from tensorflow.keras.utils import to_categorical\n",
        "\n",
        "# MNIST veri setini yükleme\n",
        "(X_train, y_train), (X_test, y_test) = tf.keras.datasets.mnist.load_data()\n",
        "\n",
        "# Veriyi normalize etme ve yeniden şekillendirme\n",
        "X_train = X_train.reshape(-1, 28, 28, 1).astype(\"float32\") / 255.0\n",
        "X_test = X_test.reshape(-1, 28, 28, 1).astype(\"float32\") / 255.0\n",
        "\n",
        "# Etiketleri one-hot encoding ile dönüştürme\n",
        "y_train = to_categorical(y_train, 10)\n",
        "y_test = to_categorical(y_test, 10)\n",
        "\n",
        "\n",
        "print(type(X_train), X_train.dtype)  # np.ndarray ve float32 olmalı\n",
        "print(type(y_train), y_train.dtype)  # np.ndarray ve float32 veya int32 olmalı"
      ],
      "metadata": {
        "colab": {
          "base_uri": "https://localhost:8080/"
        },
        "id": "30axY_AZjVFf",
        "outputId": "edb44c4b-8863-4bc4-c965-18c5b6051d9f"
      },
      "execution_count": null,
      "outputs": [
        {
          "output_type": "stream",
          "name": "stdout",
          "text": [
            "<class 'numpy.ndarray'> float32\n",
            "<class 'numpy.ndarray'> float64\n"
          ]
        }
      ]
    },
    {
      "cell_type": "code",
      "source": [
        "X_train = X_train.astype('float32')\n",
        "y_train = y_train.astype('float32')\n",
        "X_test = X_test.astype('float32')\n",
        "y_test = y_test.astype('float32')"
      ],
      "metadata": {
        "id": "_ky0qROH5iZc"
      },
      "execution_count": null,
      "outputs": []
    },
    {
      "cell_type": "code",
      "source": [
        "import tensorflow as tf\n",
        "tf.config.run_functions_eagerly(True)\n",
        "print(tf.__version__)"
      ],
      "metadata": {
        "colab": {
          "base_uri": "https://localhost:8080/"
        },
        "id": "Kzufp3Gb3bMI",
        "outputId": "40657ebe-9b94-46c5-dcbb-dadbca2741a9"
      },
      "execution_count": null,
      "outputs": [
        {
          "output_type": "stream",
          "name": "stdout",
          "text": [
            "2.18.0\n"
          ]
        }
      ]
    },
    {
      "cell_type": "code",
      "source": [
        "import tensorflow as tf\n",
        "from tensorflow.keras import layers, models\n",
        "from tensorflow.keras.utils import to_categorical\n",
        "\n",
        "# MNIST veri setini yükleme\n",
        "(X_train, y_train), (X_test, y_test) = tf.keras.datasets.mnist.load_data()\n",
        "\n",
        "# Veriyi normalize etme ve yeniden şekillendirme\n",
        "X_train = X_train.reshape(-1, 28, 28, 1).astype(\"float32\") / 255.0\n",
        "X_test = X_test.reshape(-1, 28, 28, 1).astype(\"float32\") / 255.0\n",
        "\n",
        "# Etiketleri one-hot encoding ile dönüştürme\n",
        "y_train = to_categorical(y_train, 10)\n",
        "y_test = to_categorical(y_test, 10)\n",
        "\n",
        "# Model oluşturma\n",
        "model = models.Sequential([\n",
        "    layers.Conv2D(32, (3, 3), activation='relu', input_shape=(28, 28, 1)),\n",
        "    layers.MaxPooling2D((2, 2)),\n",
        "    layers.Conv2D(64, (3, 3), activation='relu'),\n",
        "    layers.MaxPooling2D((2, 2)),\n",
        "    layers.Flatten(),\n",
        "    layers.Dense(128, activation='relu'),\n",
        "    layers.Dense(10, activation='softmax')\n",
        "])\n",
        "\n",
        "# Modeli derleme\n",
        "model.compile(optimizer='adam',\n",
        "              loss='categorical_crossentropy',\n",
        "              metrics=['accuracy'])\n",
        "\n",
        "# Modeli eğitme\n",
        "model.fit(X_train, y_train, epochs=5, batch_size=32, validation_split=0.1)\n",
        "\n",
        "# Modeli test etme\n",
        "test_loss, test_acc = model.evaluate(X_test, y_test)\n",
        "print(f\"Test Accuracy: {test_acc:.4f}\")\n",
        "\n",
        "# Modeli kaydetme (isteğe bağlı)\n",
        "model.save(\"mnist_digit_recognition_model.h5\")\n"
      ],
      "metadata": {
        "colab": {
          "base_uri": "https://localhost:8080/"
        },
        "id": "QA4EM9BN2wd6",
        "outputId": "7addf4b6-8ed5-4e33-a656-8c34f392a351"
      },
      "execution_count": null,
      "outputs": [
        {
          "output_type": "stream",
          "name": "stdout",
          "text": [
            "Downloading data from https://storage.googleapis.com/tensorflow/tf-keras-datasets/mnist.npz\n",
            "\u001b[1m11490434/11490434\u001b[0m \u001b[32m━━━━━━━━━━━━━━━━━━━━\u001b[0m\u001b[37m\u001b[0m \u001b[1m2s\u001b[0m 0us/step\n"
          ]
        },
        {
          "output_type": "stream",
          "name": "stderr",
          "text": [
            "/usr/local/lib/python3.11/dist-packages/keras/src/layers/convolutional/base_conv.py:107: UserWarning: Do not pass an `input_shape`/`input_dim` argument to a layer. When using Sequential models, prefer using an `Input(shape)` object as the first layer in the model instead.\n",
            "  super().__init__(activity_regularizer=activity_regularizer, **kwargs)\n"
          ]
        },
        {
          "output_type": "stream",
          "name": "stdout",
          "text": [
            "Epoch 1/5\n",
            "\u001b[1m1688/1688\u001b[0m \u001b[32m━━━━━━━━━━━━━━━━━━━━\u001b[0m\u001b[37m\u001b[0m \u001b[1m41s\u001b[0m 15ms/step - accuracy: 0.8976 - loss: 0.3233 - val_accuracy: 0.9838 - val_loss: 0.0541\n",
            "Epoch 2/5\n",
            "\u001b[1m1688/1688\u001b[0m \u001b[32m━━━━━━━━━━━━━━━━━━━━\u001b[0m\u001b[37m\u001b[0m \u001b[1m12s\u001b[0m 3ms/step - accuracy: 0.9857 - loss: 0.0458 - val_accuracy: 0.9873 - val_loss: 0.0428\n",
            "Epoch 3/5\n",
            "\u001b[1m1688/1688\u001b[0m \u001b[32m━━━━━━━━━━━━━━━━━━━━\u001b[0m\u001b[37m\u001b[0m \u001b[1m10s\u001b[0m 3ms/step - accuracy: 0.9903 - loss: 0.0296 - val_accuracy: 0.9885 - val_loss: 0.0376\n",
            "Epoch 4/5\n",
            "\u001b[1m1688/1688\u001b[0m \u001b[32m━━━━━━━━━━━━━━━━━━━━\u001b[0m\u001b[37m\u001b[0m \u001b[1m10s\u001b[0m 3ms/step - accuracy: 0.9938 - loss: 0.0199 - val_accuracy: 0.9912 - val_loss: 0.0340\n",
            "Epoch 5/5\n",
            "\u001b[1m1688/1688\u001b[0m \u001b[32m━━━━━━━━━━━━━━━━━━━━\u001b[0m\u001b[37m\u001b[0m \u001b[1m10s\u001b[0m 3ms/step - accuracy: 0.9952 - loss: 0.0149 - val_accuracy: 0.9930 - val_loss: 0.0310\n",
            "\u001b[1m313/313\u001b[0m \u001b[32m━━━━━━━━━━━━━━━━━━━━\u001b[0m\u001b[37m\u001b[0m \u001b[1m1s\u001b[0m 2ms/step - accuracy: 0.9891 - loss: 0.0323\n"
          ]
        },
        {
          "output_type": "stream",
          "name": "stderr",
          "text": [
            "WARNING:absl:You are saving your model as an HDF5 file via `model.save()` or `keras.saving.save_model(model)`. This file format is considered legacy. We recommend using instead the native Keras format, e.g. `model.save('my_model.keras')` or `keras.saving.save_model(model, 'my_model.keras')`. \n"
          ]
        },
        {
          "output_type": "stream",
          "name": "stdout",
          "text": [
            "Test Accuracy: 0.9921\n"
          ]
        }
      ]
    },
    {
      "cell_type": "code",
      "source": [
        "import shutil\n",
        "from google.colab import drive\n",
        "\n",
        "drive.mount(\"/content/gdrive\")"
      ],
      "metadata": {
        "colab": {
          "base_uri": "https://localhost:8080/"
        },
        "id": "3WzOUoI57qPg",
        "outputId": "7d34170c-48ea-4895-8ae9-9f45c9bb182a"
      },
      "execution_count": null,
      "outputs": [
        {
          "output_type": "stream",
          "name": "stdout",
          "text": [
            "Mounted at /content/gdrive\n"
          ]
        }
      ]
    },
    {
      "cell_type": "code",
      "source": [
        "import os\n",
        "\n",
        "file_path = r\"/content/gdrive/MyDrive/dad.png\"\n",
        "if os.path.exists(file_path):\n",
        "    print(\"Dosya bulundu.\")\n",
        "else:\n",
        "    print(\"Dosya bulunamadı.\")"
      ],
      "metadata": {
        "colab": {
          "base_uri": "https://localhost:8080/"
        },
        "id": "uldKN5zf73-p",
        "outputId": "2a07ad36-8779-42ce-ba1c-5e34e6fb5e7c"
      },
      "execution_count": null,
      "outputs": [
        {
          "output_type": "stream",
          "name": "stdout",
          "text": [
            "Dosya bulundu.\n"
          ]
        }
      ]
    },
    {
      "cell_type": "code",
      "source": [
        "import tensorflow as tf\n",
        "import numpy as np\n",
        "from PIL import Image\n",
        "\n",
        "# Eğitilmiş modeli yükleme\n",
        "model = tf.keras.models.load_model(\"mnist_digit_recognition_model.h5\")\n",
        "\n",
        "# Tahmin için bir görüntüyü işleme\n",
        "def preprocess_image(image_path):\n",
        "    img = Image.open(image_path).convert('L')  # Görüntüyü gri tonlamaya çevir\n",
        "    img = img.resize((28, 28))  # MNIST boyutuna yeniden boyutlandır\n",
        "    img_array = np.array(img)  # Görüntüyü NumPy dizisine çevir\n",
        "    img_array = 255 - img_array  # Siyah beyazı tersine çevir (el yazısı MNIST ile uyumlu)\n",
        "    img_array = img_array / 255.0  # Normalize et\n",
        "    img_array = img_array.reshape(1, 28, 28, 1)  # Modelin giriş boyutuna göre yeniden şekillendir\n",
        "    return img_array\n",
        "\n",
        "# Görüntüyü tahmin etme\n",
        "image_path = file_path\n",
        "processed_image = preprocess_image(image_path)\n",
        "prediction = model.predict(processed_image)\n",
        "predicted_digit = np.argmax(prediction)  # En yüksek olasılık değerine sahip sınıfı al\n",
        "\n",
        "# Sonucu yazdırma\n",
        "print(f\"Tahmin edilen rakam: {predicted_digit}\")\n"
      ],
      "metadata": {
        "colab": {
          "base_uri": "https://localhost:8080/"
        },
        "id": "1GEOESWi7MYv",
        "outputId": "f859f64a-0db8-449c-9f92-ecfdb23a1930"
      },
      "execution_count": null,
      "outputs": [
        {
          "output_type": "stream",
          "name": "stderr",
          "text": [
            "WARNING:absl:Compiled the loaded model, but the compiled metrics have yet to be built. `model.compile_metrics` will be empty until you train or evaluate the model.\n"
          ]
        },
        {
          "output_type": "stream",
          "name": "stdout",
          "text": [
            "\u001b[1m1/1\u001b[0m \u001b[32m━━━━━━━━━━━━━━━━━━━━\u001b[0m\u001b[37m\u001b[0m \u001b[1m1s\u001b[0m 603ms/step\n",
            "Tahmin edilen rakam: 6\n"
          ]
        }
      ]
    }
  ]
}