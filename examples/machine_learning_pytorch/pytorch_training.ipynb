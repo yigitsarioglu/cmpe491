{
  "nbformat": 4,
  "nbformat_minor": 0,
  "metadata": {
    "colab": {
      "provenance": [],
      "gpuType": "T4"
    },
    "kernelspec": {
      "name": "python3",
      "display_name": "Python 3"
    },
    "language_info": {
      "name": "python"
    },
    "accelerator": "GPU"
  },
  "cells": [
    {
      "cell_type": "code",
      "execution_count": null,
      "metadata": {
        "colab": {
          "base_uri": "https://localhost:8080/"
        },
        "id": "2vq1rLoI9-NA",
        "outputId": "28c8b147-d3ad-4310-96be-119252707c69"
      },
      "outputs": [
        {
          "output_type": "stream",
          "name": "stdout",
          "text": [
            "tensor([0.8402, 0.5025, 0.5871, 0.1048, 0.1496, 0.8956, 0.9712, 0.6382, 0.9437,\n",
            "        0.2758])\n",
            "<built-in method size of Tensor object at 0x78f6b6adac50>\n",
            "tensor([22., 23., 24., 78., 99., 88.])\n",
            "torch.Size([6])\n",
            "[[   8.3252       41.            6.98412698 ...    2.55555556\n",
            "    37.88       -122.23      ]\n",
            " [   8.3014       21.            6.23813708 ...    2.10984183\n",
            "    37.86       -122.22      ]\n",
            " [   7.2574       52.            8.28813559 ...    2.80225989\n",
            "    37.85       -122.24      ]\n",
            " ...\n",
            " [   1.7          17.            5.20554273 ...    2.3256351\n",
            "    39.43       -121.22      ]\n",
            " [   1.8672       18.            5.32951289 ...    2.12320917\n",
            "    39.43       -121.32      ]\n",
            " [   2.3886       16.            5.25471698 ...    2.61698113\n",
            "    39.37       -121.24      ]]\n",
            "tensor([[   8.3252,   41.0000,    6.9841,  ...,    2.5556,   37.8800,\n",
            "         -122.2300],\n",
            "        [   8.3014,   21.0000,    6.2381,  ...,    2.1098,   37.8600,\n",
            "         -122.2200],\n",
            "        [   7.2574,   52.0000,    8.2881,  ...,    2.8023,   37.8500,\n",
            "         -122.2400],\n",
            "        ...,\n",
            "        [   1.7000,   17.0000,    5.2055,  ...,    2.3256,   39.4300,\n",
            "         -121.2200],\n",
            "        [   1.8672,   18.0000,    5.3295,  ...,    2.1232,   39.4300,\n",
            "         -121.3200],\n",
            "        [   2.3886,   16.0000,    5.2547,  ...,    2.6170,   39.3700,\n",
            "         -121.2400]], dtype=torch.float64)\n"
          ]
        }
      ],
      "source": [
        "import torch\n",
        "from sklearn.datasets import fetch_california_housing\n",
        "\n",
        "x = torch.rand(10)\n",
        "\n",
        "print(x)\n",
        "print(x.size)\n",
        "\n",
        "\n",
        "temp = torch.FloatTensor ( [22,23,24,78,99,88] )\n",
        "print (temp)\n",
        "print (temp.size() )\n",
        "\n",
        "\n",
        "\n",
        "housing = fetch_california_housing()\n",
        "print(housing.data)\n",
        "\n",
        "# numpy arrayinden torch nesnesine dönüştürme,  pytorch tensor arrayine dönüştü\n",
        "house = torch.from_numpy(housing.data)\n",
        "print(house)"
      ]
    },
    {
      "cell_type": "code",
      "source": [
        "# DATASET DOSYASINI GOOGLE DRİVE /tmp klasörüne unzip edilmesi\n",
        "import shutil\n",
        "from google.colab import drive\n",
        "\n",
        "drive.mount(\"/content/gdrive\")"
      ],
      "metadata": {
        "colab": {
          "base_uri": "https://localhost:8080/"
        },
        "id": "LovlckaxIKiM",
        "outputId": "9a3231d8-c640-4a5f-f775-9897458b67eb"
      },
      "execution_count": null,
      "outputs": [
        {
          "output_type": "stream",
          "name": "stdout",
          "text": [
            "Mounted at /content/gdrive\n"
          ]
        }
      ]
    },
    {
      "cell_type": "code",
      "source": [
        "# Filepath kontrol edilmesi\n",
        "import os\n",
        "\n",
        "file_path = r\"/content/gdrive/MyDrive/kedi.jpg\"\n",
        "if os.path.exists(file_path):\n",
        "    print(\"Dosya bulundu.\")\n",
        "else:\n",
        "    print(\"Dosya bulunamadı.\")"
      ],
      "metadata": {
        "colab": {
          "base_uri": "https://localhost:8080/"
        },
        "id": "Nha_XGDGIEOP",
        "outputId": "f8ccb6f2-1c98-4b7e-b90d-718af8205df9"
      },
      "execution_count": null,
      "outputs": [
        {
          "output_type": "stream",
          "name": "stdout",
          "text": [
            "Dosya bulundu.\n"
          ]
        }
      ]
    },
    {
      "cell_type": "code",
      "source": [
        "from PIL import Image\n",
        "import numpy as np\n",
        "import torch\n",
        "from matplotlib import pyplot as plt\n",
        "\n",
        "\n",
        "kedi  = np.array ( Image.open(file_path).resize( (224,224) )   )\n",
        "keditorch = torch.from_numpy(kedi)\n",
        "\n",
        "print(np.shape(kedi))\n",
        "print ( keditorch.size() )\n",
        "\n",
        "plt.imsave ( \"kedi9.jpeg\", keditorch[25:150, 125:200,:]  )"
      ],
      "metadata": {
        "colab": {
          "base_uri": "https://localhost:8080/"
        },
        "id": "1XVVA9VeAz5V",
        "outputId": "a5b0a08e-275e-45ec-ca59-16f090de9ce4"
      },
      "execution_count": null,
      "outputs": [
        {
          "output_type": "stream",
          "name": "stdout",
          "text": [
            "(224, 224, 3)\n",
            "torch.Size([224, 224, 3])\n"
          ]
        }
      ]
    },
    {
      "cell_type": "code",
      "source": [
        "import torch\n",
        "\n",
        "rand1 = torch.rand(2,2)\n",
        "rand2 = torch.rand(2,2)\n",
        "\n",
        "print (rand1, rand2)\n",
        "print (rand1*rand2)\n",
        "\n",
        "print (rand1.mul (rand2))\n",
        "\n"
      ],
      "metadata": {
        "colab": {
          "base_uri": "https://localhost:8080/"
        },
        "id": "TujvDKzrOdME",
        "outputId": "b3bb19b9-fb13-4b24-e3d6-56b75919d821"
      },
      "execution_count": null,
      "outputs": [
        {
          "output_type": "stream",
          "name": "stdout",
          "text": [
            "tensor([[0.2223, 0.4827],\n",
            "        [0.3932, 0.8580]]) tensor([[0.0605, 0.9355],\n",
            "        [0.5280, 0.2030]])\n",
            "tensor([[0.0134, 0.4515],\n",
            "        [0.2076, 0.1742]])\n",
            "tensor([[0.0134, 0.4515],\n",
            "        [0.2076, 0.1742]])\n"
          ]
        }
      ]
    },
    {
      "cell_type": "code",
      "source": [
        "import torch\n",
        "\n",
        "rand1 = torch.rand(10000,10000)\n",
        "rand2 = torch.rand(10000,10000)\n",
        "\n",
        "print(\".\")\n",
        "rand1.matmul(rand2)\n",
        "\n",
        "print(\"...\")\n",
        "\n",
        "# rand1 = rand1.cuda()\n",
        "# rand2 = rand2.cuda()\n",
        "\n"
      ],
      "metadata": {
        "colab": {
          "base_uri": "https://localhost:8080/"
        },
        "id": "EAO91kgiO2xK",
        "outputId": "b4f79768-123b-4d45-b1b2-4e6a776590b4"
      },
      "execution_count": null,
      "outputs": [
        {
          "output_type": "stream",
          "name": "stdout",
          "text": [
            ".\n",
            "...\n"
          ]
        }
      ]
    },
    {
      "cell_type": "code",
      "source": [
        "#Ders 5 : Lineer Regressyon\n",
        "\n",
        "import numpy as np\n",
        "import torch\n",
        "\n"
      ],
      "metadata": {
        "id": "uutyO1_Z91e0"
      },
      "execution_count": null,
      "outputs": []
    },
    {
      "cell_type": "code",
      "source": [
        "x = torch.tensor(3.)\n",
        "w = torch.tensor(4., requires_grad= True)\n",
        "b = torch.tensor(5., requires_grad= True)"
      ],
      "metadata": {
        "id": "8wfyvKeS_PQ5"
      },
      "execution_count": null,
      "outputs": []
    },
    {
      "cell_type": "code",
      "source": [
        "print(x)\n",
        "print(w)\n",
        "print(b)\n"
      ],
      "metadata": {
        "colab": {
          "base_uri": "https://localhost:8080/"
        },
        "id": "3RmpNuuB_bS9",
        "outputId": "eb34fa90-8f6e-4ebd-d187-0d766fb72a03"
      },
      "execution_count": null,
      "outputs": [
        {
          "output_type": "stream",
          "name": "stdout",
          "text": [
            "tensor(3.)\n",
            "tensor(4., requires_grad=True)\n",
            "tensor(5., requires_grad=True)\n"
          ]
        }
      ]
    },
    {
      "cell_type": "code",
      "source": [
        "y= w*x +b\n",
        "print(y)"
      ],
      "metadata": {
        "colab": {
          "base_uri": "https://localhost:8080/"
        },
        "id": "6Wo8f17J_ftg",
        "outputId": "2d581ac1-b3a7-4211-b12e-c1a09daac3f2"
      },
      "execution_count": null,
      "outputs": [
        {
          "output_type": "stream",
          "name": "stdout",
          "text": [
            "tensor(17., grad_fn=<AddBackward0>)\n"
          ]
        }
      ]
    },
    {
      "cell_type": "code",
      "source": [
        "y.backward()"
      ],
      "metadata": {
        "id": "IRTBsp_0_nK_"
      },
      "execution_count": null,
      "outputs": []
    },
    {
      "cell_type": "code",
      "source": [
        "print ( \"dy/dw: \" , w.grad)\n",
        "print((\"dy/db: \"  , b.grad))"
      ],
      "metadata": {
        "colab": {
          "base_uri": "https://localhost:8080/"
        },
        "id": "m9Zr_zbd_ss-",
        "outputId": "dab9ce9e-461f-4a81-e939-b5a5143a1180"
      },
      "execution_count": null,
      "outputs": [
        {
          "output_type": "stream",
          "name": "stdout",
          "text": [
            "dy/dw:  tensor(3.)\n",
            "('dy/db: ', tensor(1.))\n"
          ]
        }
      ]
    },
    {
      "cell_type": "code",
      "source": [
        "\n",
        "# Inputs ( temp, rainfall, humidity)\n",
        "\n",
        "inputs = np.array ( [  [73,67, 43] , [91,88,64] , [87,134,58] , [ 102, 43,37] , [69,96,70] ],  dtype='float32')\n",
        "\n",
        "# Targets ( apples,oranges)\n",
        "\n",
        "targets = np.array (  [  [56,70], [81,101] , [119,133], [22,37] , [103,119] ]  , dtype='float32' )"
      ],
      "metadata": {
        "id": "ZAzbK4wJjmil"
      },
      "execution_count": null,
      "outputs": []
    },
    {
      "cell_type": "code",
      "source": [
        "inputs = torch.from_numpy(inputs)\n",
        "targets = torch.from_numpy(targets)\n",
        "\n",
        "print(inputs)\n",
        "print(targets)\n"
      ],
      "metadata": {
        "colab": {
          "base_uri": "https://localhost:8080/"
        },
        "id": "RZen_12Ck5w1",
        "outputId": "8ab76b59-75a7-414f-bbbc-d330f7a92578"
      },
      "execution_count": null,
      "outputs": [
        {
          "output_type": "stream",
          "name": "stdout",
          "text": [
            "tensor([[ 73.,  67.,  43.],\n",
            "        [ 91.,  88.,  64.],\n",
            "        [ 87., 134.,  58.],\n",
            "        [102.,  43.,  37.],\n",
            "        [ 69.,  96.,  70.]])\n",
            "tensor([[ 56.,  70.],\n",
            "        [ 81., 101.],\n",
            "        [119., 133.],\n",
            "        [ 22.,  37.],\n",
            "        [103., 119.]])\n"
          ]
        }
      ]
    },
    {
      "cell_type": "code",
      "source": [
        "# Linear Regression Model from scratch\n",
        "\n",
        "w = torch.randn( 2,3, requires_grad= True)\n",
        "b = torch.randn(2, requires_grad= True)\n",
        "\n",
        "print (w)\n",
        "print (b)\n"
      ],
      "metadata": {
        "colab": {
          "base_uri": "https://localhost:8080/"
        },
        "id": "S8IBZTZdqnn1",
        "outputId": "edabe3bc-9067-4df2-8924-61e2ab79684e"
      },
      "execution_count": null,
      "outputs": [
        {
          "output_type": "stream",
          "name": "stdout",
          "text": [
            "tensor([[-0.3298, -0.1565, -0.9653],\n",
            "        [-0.0657,  2.1059, -1.5632]], requires_grad=True)\n",
            "tensor([-0.1484, -0.1163], requires_grad=True)\n"
          ]
        }
      ]
    },
    {
      "cell_type": "code",
      "source": [
        "# Model oluşturduk  y=mx+b\n",
        "def model (x):\n",
        "  return x @ w.t() + b"
      ],
      "metadata": {
        "id": "AcBkOmeArL9X"
      },
      "execution_count": null,
      "outputs": []
    },
    {
      "cell_type": "code",
      "source": [
        "preds = model (inputs)\n",
        "print(preds)"
      ],
      "metadata": {
        "colab": {
          "base_uri": "https://localhost:8080/"
        },
        "id": "zTTqEC8FrxUB",
        "outputId": "f08bfbe6-a4c8-42c7-93b4-e0d5c567d382"
      },
      "execution_count": null,
      "outputs": [
        {
          "output_type": "stream",
          "name": "stdout",
          "text": [
            "tensor([[ -76.2161,   68.9677],\n",
            "        [-105.7104,   79.1821],\n",
            "        [-105.7984,  185.6975],\n",
            "        [ -76.2312,   25.9000],\n",
            "        [-105.4997,   88.0950]], grad_fn=<AddBackward0>)\n"
          ]
        }
      ]
    },
    {
      "cell_type": "code",
      "source": [
        "#Loss function kullanarak ne kadar fark çıktı bunu buluyoruz\n",
        "# mean square error yöntemi kullanarak yapılır\n",
        "\n",
        "def mse (real, preds):\n",
        "  diff = real - preds\n",
        "  return torch.sum(diff * diff) / diff.numel()"
      ],
      "metadata": {
        "id": "T0Jz0vTgsT65"
      },
      "execution_count": null,
      "outputs": []
    },
    {
      "cell_type": "code",
      "source": [
        "loss = mse(targets, preds)\n",
        "print(loss)\n",
        "# bunun karekökü alınır ve hesaplanır"
      ],
      "metadata": {
        "colab": {
          "base_uri": "https://localhost:8080/"
        },
        "id": "Bk6qErO0tdds",
        "outputId": "f291c919-adb5-49da-daa3-f0764740a1d9"
      },
      "execution_count": null,
      "outputs": [
        {
          "output_type": "stream",
          "name": "stdout",
          "text": [
            "tensor(16033.0137, grad_fn=<DivBackward0>)\n"
          ]
        }
      ]
    },
    {
      "cell_type": "code",
      "source": [
        "#Compute Gradiens\n",
        "\n",
        "loss.backward()"
      ],
      "metadata": {
        "colab": {
          "base_uri": "https://localhost:8080/",
          "height": 321
        },
        "id": "7hpHT9AjuCOh",
        "outputId": "b6faf81b-dbb4-4bb7-ef1b-18c077377521"
      },
      "execution_count": null,
      "outputs": [
        {
          "output_type": "error",
          "ename": "RuntimeError",
          "evalue": "element 0 of tensors does not require grad and does not have a grad_fn",
          "traceback": [
            "\u001b[0;31m---------------------------------------------------------------------------\u001b[0m",
            "\u001b[0;31mRuntimeError\u001b[0m                              Traceback (most recent call last)",
            "\u001b[0;32m<ipython-input-39-d80b13096f03>\u001b[0m in \u001b[0;36m<cell line: 3>\u001b[0;34m()\u001b[0m\n\u001b[1;32m      1\u001b[0m \u001b[0;31m#Compute Gradiens\u001b[0m\u001b[0;34m\u001b[0m\u001b[0;34m\u001b[0m\u001b[0m\n\u001b[1;32m      2\u001b[0m \u001b[0;34m\u001b[0m\u001b[0m\n\u001b[0;32m----> 3\u001b[0;31m \u001b[0mloss\u001b[0m\u001b[0;34m.\u001b[0m\u001b[0mbackward\u001b[0m\u001b[0;34m(\u001b[0m\u001b[0;34m)\u001b[0m\u001b[0;34m\u001b[0m\u001b[0;34m\u001b[0m\u001b[0m\n\u001b[0m",
            "\u001b[0;32m/usr/local/lib/python3.10/dist-packages/torch/_tensor.py\u001b[0m in \u001b[0;36mbackward\u001b[0;34m(self, gradient, retain_graph, create_graph, inputs)\u001b[0m\n\u001b[1;32m    579\u001b[0m                 \u001b[0minputs\u001b[0m\u001b[0;34m=\u001b[0m\u001b[0minputs\u001b[0m\u001b[0;34m,\u001b[0m\u001b[0;34m\u001b[0m\u001b[0;34m\u001b[0m\u001b[0m\n\u001b[1;32m    580\u001b[0m             )\n\u001b[0;32m--> 581\u001b[0;31m         torch.autograd.backward(\n\u001b[0m\u001b[1;32m    582\u001b[0m             \u001b[0mself\u001b[0m\u001b[0;34m,\u001b[0m \u001b[0mgradient\u001b[0m\u001b[0;34m,\u001b[0m \u001b[0mretain_graph\u001b[0m\u001b[0;34m,\u001b[0m \u001b[0mcreate_graph\u001b[0m\u001b[0;34m,\u001b[0m \u001b[0minputs\u001b[0m\u001b[0;34m=\u001b[0m\u001b[0minputs\u001b[0m\u001b[0;34m\u001b[0m\u001b[0;34m\u001b[0m\u001b[0m\n\u001b[1;32m    583\u001b[0m         )\n",
            "\u001b[0;32m/usr/local/lib/python3.10/dist-packages/torch/autograd/__init__.py\u001b[0m in \u001b[0;36mbackward\u001b[0;34m(tensors, grad_tensors, retain_graph, create_graph, grad_variables, inputs)\u001b[0m\n\u001b[1;32m    345\u001b[0m     \u001b[0;31m# some Python versions print out the first line of a multi-line function\u001b[0m\u001b[0;34m\u001b[0m\u001b[0;34m\u001b[0m\u001b[0m\n\u001b[1;32m    346\u001b[0m     \u001b[0;31m# calls in the traceback and some print out the last line\u001b[0m\u001b[0;34m\u001b[0m\u001b[0;34m\u001b[0m\u001b[0m\n\u001b[0;32m--> 347\u001b[0;31m     _engine_run_backward(\n\u001b[0m\u001b[1;32m    348\u001b[0m         \u001b[0mtensors\u001b[0m\u001b[0;34m,\u001b[0m\u001b[0;34m\u001b[0m\u001b[0;34m\u001b[0m\u001b[0m\n\u001b[1;32m    349\u001b[0m         \u001b[0mgrad_tensors_\u001b[0m\u001b[0;34m,\u001b[0m\u001b[0;34m\u001b[0m\u001b[0;34m\u001b[0m\u001b[0m\n",
            "\u001b[0;32m/usr/local/lib/python3.10/dist-packages/torch/autograd/graph.py\u001b[0m in \u001b[0;36m_engine_run_backward\u001b[0;34m(t_outputs, *args, **kwargs)\u001b[0m\n\u001b[1;32m    823\u001b[0m         \u001b[0munregister_hooks\u001b[0m \u001b[0;34m=\u001b[0m \u001b[0m_register_logging_hooks_on_whole_graph\u001b[0m\u001b[0;34m(\u001b[0m\u001b[0mt_outputs\u001b[0m\u001b[0;34m)\u001b[0m\u001b[0;34m\u001b[0m\u001b[0;34m\u001b[0m\u001b[0m\n\u001b[1;32m    824\u001b[0m     \u001b[0;32mtry\u001b[0m\u001b[0;34m:\u001b[0m\u001b[0;34m\u001b[0m\u001b[0;34m\u001b[0m\u001b[0m\n\u001b[0;32m--> 825\u001b[0;31m         return Variable._execution_engine.run_backward(  # Calls into the C++ engine to run the backward pass\n\u001b[0m\u001b[1;32m    826\u001b[0m             \u001b[0mt_outputs\u001b[0m\u001b[0;34m,\u001b[0m \u001b[0;34m*\u001b[0m\u001b[0margs\u001b[0m\u001b[0;34m,\u001b[0m \u001b[0;34m**\u001b[0m\u001b[0mkwargs\u001b[0m\u001b[0;34m\u001b[0m\u001b[0;34m\u001b[0m\u001b[0m\n\u001b[1;32m    827\u001b[0m         )  # Calls into the C++ engine to run the backward pass\n",
            "\u001b[0;31mRuntimeError\u001b[0m: element 0 of tensors does not require grad and does not have a grad_fn"
          ]
        }
      ]
    },
    {
      "cell_type": "code",
      "source": [],
      "metadata": {
        "id": "ZUwy14910pz_"
      },
      "execution_count": null,
      "outputs": []
    },
    {
      "cell_type": "code",
      "source": [
        "print(w)\n",
        "print(w.grad)"
      ],
      "metadata": {
        "colab": {
          "base_uri": "https://localhost:8080/"
        },
        "id": "BAxzip6AuIKb",
        "outputId": "e505b997-b452-4715-b017-0c98f05b3558"
      },
      "execution_count": null,
      "outputs": [
        {
          "output_type": "stream",
          "name": "stdout",
          "text": [
            "tensor([[ 1.2316, -0.9502,  2.4061],\n",
            "        [-0.1602,  1.1908,  0.6422]], requires_grad=True)\n",
            "tensor([[6866.6587, 5249.7397, 3904.3445],\n",
            "        [2656.7107, 2979.3489, 1767.9862]])\n"
          ]
        }
      ]
    },
    {
      "cell_type": "code",
      "source": [
        "print(b)\n",
        "print(b.grad)"
      ],
      "metadata": {
        "colab": {
          "base_uri": "https://localhost:8080/"
        },
        "id": "GI-FZOx0ueEc",
        "outputId": "2619d7d9-646f-4ce4-cb6e-d20e8248c093"
      },
      "execution_count": null,
      "outputs": [
        {
          "output_type": "stream",
          "name": "stdout",
          "text": [
            "tensor([0.2911, 0.2079], requires_grad=True)\n",
            "tensor([77.5901, 31.5548])\n"
          ]
        }
      ]
    },
    {
      "cell_type": "code",
      "source": [
        "w.grad.zero_()\n",
        "b.grad.zero_()\n",
        "\n",
        "print(w.grad)\n",
        "print(b.grad)"
      ],
      "metadata": {
        "colab": {
          "base_uri": "https://localhost:8080/",
          "height": 211
        },
        "id": "Y70qh091we7y",
        "outputId": "20c9a914-c05e-4de3-8a27-e1b1135880e0"
      },
      "execution_count": null,
      "outputs": [
        {
          "output_type": "error",
          "ename": "AttributeError",
          "evalue": "'NoneType' object has no attribute 'zero_'",
          "traceback": [
            "\u001b[0;31m---------------------------------------------------------------------------\u001b[0m",
            "\u001b[0;31mAttributeError\u001b[0m                            Traceback (most recent call last)",
            "\u001b[0;32m<ipython-input-34-4a9ca6ee2ce7>\u001b[0m in \u001b[0;36m<cell line: 1>\u001b[0;34m()\u001b[0m\n\u001b[0;32m----> 1\u001b[0;31m \u001b[0mw\u001b[0m\u001b[0;34m.\u001b[0m\u001b[0mgrad\u001b[0m\u001b[0;34m.\u001b[0m\u001b[0mzero_\u001b[0m\u001b[0;34m(\u001b[0m\u001b[0;34m)\u001b[0m\u001b[0;34m\u001b[0m\u001b[0;34m\u001b[0m\u001b[0m\n\u001b[0m\u001b[1;32m      2\u001b[0m \u001b[0mb\u001b[0m\u001b[0;34m.\u001b[0m\u001b[0mgrad\u001b[0m\u001b[0;34m.\u001b[0m\u001b[0mzero_\u001b[0m\u001b[0;34m(\u001b[0m\u001b[0;34m)\u001b[0m\u001b[0;34m\u001b[0m\u001b[0;34m\u001b[0m\u001b[0m\n\u001b[1;32m      3\u001b[0m \u001b[0;34m\u001b[0m\u001b[0m\n\u001b[1;32m      4\u001b[0m \u001b[0mprint\u001b[0m\u001b[0;34m(\u001b[0m\u001b[0mw\u001b[0m\u001b[0;34m.\u001b[0m\u001b[0mgrad\u001b[0m\u001b[0;34m)\u001b[0m\u001b[0;34m\u001b[0m\u001b[0;34m\u001b[0m\u001b[0m\n\u001b[1;32m      5\u001b[0m \u001b[0mprint\u001b[0m\u001b[0;34m(\u001b[0m\u001b[0mb\u001b[0m\u001b[0;34m.\u001b[0m\u001b[0mgrad\u001b[0m\u001b[0;34m)\u001b[0m\u001b[0;34m\u001b[0m\u001b[0;34m\u001b[0m\u001b[0m\n",
            "\u001b[0;31mAttributeError\u001b[0m: 'NoneType' object has no attribute 'zero_'"
          ]
        }
      ]
    },
    {
      "cell_type": "code",
      "source": [
        "preds = model (inputs)\n",
        "print(preds)"
      ],
      "metadata": {
        "colab": {
          "base_uri": "https://localhost:8080/"
        },
        "id": "Crygjwfox-YW",
        "outputId": "52f9fec4-3771-4faa-ef5b-4cb659b4d92b"
      },
      "execution_count": null,
      "outputs": [
        {
          "output_type": "stream",
          "name": "stdout",
          "text": [
            "tensor([[119.7847,  91.2152],\n",
            "        [169.3682, 125.3492],\n",
            "        [104.3916, 175.7551],\n",
            "        [163.3707,  54.1885],\n",
            "        [149.9653, 142.4928]])\n"
          ]
        }
      ]
    },
    {
      "cell_type": "code",
      "source": [
        "loss = mse (targets ,preds)\n",
        "print (loss)"
      ],
      "metadata": {
        "colab": {
          "base_uri": "https://localhost:8080/"
        },
        "id": "YKloW6GeyEzn",
        "outputId": "4f62c99c-0efe-4a8a-a187-132aa9864361"
      },
      "execution_count": null,
      "outputs": [
        {
          "output_type": "stream",
          "name": "stdout",
          "text": [
            "tensor(3800.0581)\n"
          ]
        }
      ]
    },
    {
      "cell_type": "code",
      "source": [
        "loss.backward()"
      ],
      "metadata": {
        "colab": {
          "base_uri": "https://localhost:8080/",
          "height": 287
        },
        "id": "wT_HgJdlyRvl",
        "outputId": "2ecaa378-1da3-4c3e-932e-e6c558fb67b4"
      },
      "execution_count": null,
      "outputs": [
        {
          "output_type": "error",
          "ename": "RuntimeError",
          "evalue": "element 0 of tensors does not require grad and does not have a grad_fn",
          "traceback": [
            "\u001b[0;31m---------------------------------------------------------------------------\u001b[0m",
            "\u001b[0;31mRuntimeError\u001b[0m                              Traceback (most recent call last)",
            "\u001b[0;32m<ipython-input-33-52a0569421b1>\u001b[0m in \u001b[0;36m<cell line: 1>\u001b[0;34m()\u001b[0m\n\u001b[0;32m----> 1\u001b[0;31m \u001b[0mloss\u001b[0m\u001b[0;34m.\u001b[0m\u001b[0mbackward\u001b[0m\u001b[0;34m(\u001b[0m\u001b[0;34m)\u001b[0m\u001b[0;34m\u001b[0m\u001b[0;34m\u001b[0m\u001b[0m\n\u001b[0m",
            "\u001b[0;32m/usr/local/lib/python3.10/dist-packages/torch/_tensor.py\u001b[0m in \u001b[0;36mbackward\u001b[0;34m(self, gradient, retain_graph, create_graph, inputs)\u001b[0m\n\u001b[1;32m    579\u001b[0m                 \u001b[0minputs\u001b[0m\u001b[0;34m=\u001b[0m\u001b[0minputs\u001b[0m\u001b[0;34m,\u001b[0m\u001b[0;34m\u001b[0m\u001b[0;34m\u001b[0m\u001b[0m\n\u001b[1;32m    580\u001b[0m             )\n\u001b[0;32m--> 581\u001b[0;31m         torch.autograd.backward(\n\u001b[0m\u001b[1;32m    582\u001b[0m             \u001b[0mself\u001b[0m\u001b[0;34m,\u001b[0m \u001b[0mgradient\u001b[0m\u001b[0;34m,\u001b[0m \u001b[0mretain_graph\u001b[0m\u001b[0;34m,\u001b[0m \u001b[0mcreate_graph\u001b[0m\u001b[0;34m,\u001b[0m \u001b[0minputs\u001b[0m\u001b[0;34m=\u001b[0m\u001b[0minputs\u001b[0m\u001b[0;34m\u001b[0m\u001b[0;34m\u001b[0m\u001b[0m\n\u001b[1;32m    583\u001b[0m         )\n",
            "\u001b[0;32m/usr/local/lib/python3.10/dist-packages/torch/autograd/__init__.py\u001b[0m in \u001b[0;36mbackward\u001b[0;34m(tensors, grad_tensors, retain_graph, create_graph, grad_variables, inputs)\u001b[0m\n\u001b[1;32m    345\u001b[0m     \u001b[0;31m# some Python versions print out the first line of a multi-line function\u001b[0m\u001b[0;34m\u001b[0m\u001b[0;34m\u001b[0m\u001b[0m\n\u001b[1;32m    346\u001b[0m     \u001b[0;31m# calls in the traceback and some print out the last line\u001b[0m\u001b[0;34m\u001b[0m\u001b[0;34m\u001b[0m\u001b[0m\n\u001b[0;32m--> 347\u001b[0;31m     _engine_run_backward(\n\u001b[0m\u001b[1;32m    348\u001b[0m         \u001b[0mtensors\u001b[0m\u001b[0;34m,\u001b[0m\u001b[0;34m\u001b[0m\u001b[0;34m\u001b[0m\u001b[0m\n\u001b[1;32m    349\u001b[0m         \u001b[0mgrad_tensors_\u001b[0m\u001b[0;34m,\u001b[0m\u001b[0;34m\u001b[0m\u001b[0;34m\u001b[0m\u001b[0m\n",
            "\u001b[0;32m/usr/local/lib/python3.10/dist-packages/torch/autograd/graph.py\u001b[0m in \u001b[0;36m_engine_run_backward\u001b[0;34m(t_outputs, *args, **kwargs)\u001b[0m\n\u001b[1;32m    823\u001b[0m         \u001b[0munregister_hooks\u001b[0m \u001b[0;34m=\u001b[0m \u001b[0m_register_logging_hooks_on_whole_graph\u001b[0m\u001b[0;34m(\u001b[0m\u001b[0mt_outputs\u001b[0m\u001b[0;34m)\u001b[0m\u001b[0;34m\u001b[0m\u001b[0;34m\u001b[0m\u001b[0m\n\u001b[1;32m    824\u001b[0m     \u001b[0;32mtry\u001b[0m\u001b[0;34m:\u001b[0m\u001b[0;34m\u001b[0m\u001b[0;34m\u001b[0m\u001b[0m\n\u001b[0;32m--> 825\u001b[0;31m         return Variable._execution_engine.run_backward(  # Calls into the C++ engine to run the backward pass\n\u001b[0m\u001b[1;32m    826\u001b[0m             \u001b[0mt_outputs\u001b[0m\u001b[0;34m,\u001b[0m \u001b[0;34m*\u001b[0m\u001b[0margs\u001b[0m\u001b[0;34m,\u001b[0m \u001b[0;34m**\u001b[0m\u001b[0mkwargs\u001b[0m\u001b[0;34m\u001b[0m\u001b[0;34m\u001b[0m\u001b[0m\n\u001b[1;32m    827\u001b[0m         )  # Calls into the C++ engine to run the backward pass\n",
            "\u001b[0;31mRuntimeError\u001b[0m: element 0 of tensors does not require grad and does not have a grad_fn"
          ]
        }
      ]
    },
    {
      "cell_type": "code",
      "source": [
        "with torch.no_grad():\n",
        "  w -= w.grad * 1e-5\n",
        "  b -=  b.grad * 1e-5\n",
        "  w.grad.zero_()\n",
        "  b.grad.zero_()"
      ],
      "metadata": {
        "colab": {
          "base_uri": "https://localhost:8080/",
          "height": 211
        },
        "id": "jndkEb9UyUyd",
        "outputId": "b472a5cf-37dc-47ea-92a8-348389d6b512"
      },
      "execution_count": null,
      "outputs": [
        {
          "output_type": "error",
          "ename": "TypeError",
          "evalue": "unsupported operand type(s) for *: 'NoneType' and 'float'",
          "traceback": [
            "\u001b[0;31m---------------------------------------------------------------------------\u001b[0m",
            "\u001b[0;31mTypeError\u001b[0m                                 Traceback (most recent call last)",
            "\u001b[0;32m<ipython-input-30-55cde19c4396>\u001b[0m in \u001b[0;36m<cell line: 1>\u001b[0;34m()\u001b[0m\n\u001b[1;32m      1\u001b[0m \u001b[0;32mwith\u001b[0m \u001b[0mtorch\u001b[0m\u001b[0;34m.\u001b[0m\u001b[0mno_grad\u001b[0m\u001b[0;34m(\u001b[0m\u001b[0;34m)\u001b[0m\u001b[0;34m:\u001b[0m\u001b[0;34m\u001b[0m\u001b[0;34m\u001b[0m\u001b[0m\n\u001b[0;32m----> 2\u001b[0;31m   \u001b[0mw\u001b[0m \u001b[0;34m-=\u001b[0m \u001b[0mw\u001b[0m\u001b[0;34m.\u001b[0m\u001b[0mgrad\u001b[0m \u001b[0;34m*\u001b[0m \u001b[0;36m1e-5\u001b[0m\u001b[0;34m\u001b[0m\u001b[0;34m\u001b[0m\u001b[0m\n\u001b[0m\u001b[1;32m      3\u001b[0m   \u001b[0mb\u001b[0m \u001b[0;34m-=\u001b[0m  \u001b[0mb\u001b[0m\u001b[0;34m.\u001b[0m\u001b[0mgrad\u001b[0m \u001b[0;34m*\u001b[0m \u001b[0;36m1e-5\u001b[0m\u001b[0;34m\u001b[0m\u001b[0;34m\u001b[0m\u001b[0m\n\u001b[1;32m      4\u001b[0m   \u001b[0mw\u001b[0m\u001b[0;34m.\u001b[0m\u001b[0mgrad\u001b[0m\u001b[0;34m.\u001b[0m\u001b[0mzero_\u001b[0m\u001b[0;34m(\u001b[0m\u001b[0;34m)\u001b[0m\u001b[0;34m\u001b[0m\u001b[0;34m\u001b[0m\u001b[0m\n\u001b[1;32m      5\u001b[0m   \u001b[0mb\u001b[0m\u001b[0;34m.\u001b[0m\u001b[0mgrad\u001b[0m\u001b[0;34m.\u001b[0m\u001b[0mzero_\u001b[0m\u001b[0;34m(\u001b[0m\u001b[0;34m)\u001b[0m\u001b[0;34m\u001b[0m\u001b[0;34m\u001b[0m\u001b[0m\n",
            "\u001b[0;31mTypeError\u001b[0m: unsupported operand type(s) for *: 'NoneType' and 'float'"
          ]
        }
      ]
    },
    {
      "cell_type": "code",
      "source": [
        "# with the new weights and biases, the model should have a lower loss\n",
        "\n",
        "preds = model (inputs)\n",
        "loss = mse (targets,preds)\n",
        "print(loss)"
      ],
      "metadata": {
        "id": "eXR7veQIzrgk"
      },
      "execution_count": null,
      "outputs": []
    },
    {
      "cell_type": "code",
      "source": [
        "# Ders 7 -Lineer Regresyon\n",
        "#Train for multiple epochs\n",
        "\n",
        "## eger epoch sayısı yani tekrar saysısı artar ise loss fonksiyonu düşecektir\n",
        "for i in range (1000):\n",
        "  preds = model (inputs)\n",
        "  loss = mse (preds, targets)\n",
        "  loss.backward()\n",
        "\n",
        "  with torch.no_grad() :\n",
        "      w -= w.grad * 1e-5\n",
        "      b -=b.grad * 1e-5\n",
        "      w.grad.zero_()\n",
        "      b.grad.zero_()\n"
      ],
      "metadata": {
        "id": "DUuP4Fi80r_x"
      },
      "execution_count": null,
      "outputs": []
    },
    {
      "cell_type": "code",
      "source": [
        "  preds = model (inputs)\n",
        "  loss = mse (preds, targets)\n",
        "  print(loss)\n"
      ],
      "metadata": {
        "colab": {
          "base_uri": "https://localhost:8080/"
        },
        "id": "vdmDL8U_1SwT",
        "outputId": "40082efa-17de-481c-e7e3-acfb3f1927e9"
      },
      "execution_count": null,
      "outputs": [
        {
          "output_type": "stream",
          "name": "stdout",
          "text": [
            "tensor(54.3352, grad_fn=<DivBackward0>)\n"
          ]
        }
      ]
    },
    {
      "cell_type": "code",
      "source": [
        "targets"
      ],
      "metadata": {
        "colab": {
          "base_uri": "https://localhost:8080/"
        },
        "id": "Dq_L9KzU2POm",
        "outputId": "30fac197-0314-4cdd-b022-062e54d6a2ae"
      },
      "execution_count": null,
      "outputs": [
        {
          "output_type": "execute_result",
          "data": {
            "text/plain": [
              "tensor([[ 56.,  70.],\n",
              "        [ 81., 101.],\n",
              "        [119., 133.],\n",
              "        [ 22.,  37.],\n",
              "        [103., 119.]])"
            ]
          },
          "metadata": {},
          "execution_count": 14
        }
      ]
    },
    {
      "cell_type": "code",
      "source": [
        "preds"
      ],
      "metadata": {
        "colab": {
          "base_uri": "https://localhost:8080/"
        },
        "id": "QXRGnhx82RhW",
        "outputId": "5410a06c-e1fe-4503-dd5a-35636bf91b75"
      },
      "execution_count": null,
      "outputs": [
        {
          "output_type": "execute_result",
          "data": {
            "text/plain": [
              "tensor([[ 57.4844,  71.0930],\n",
              "        [ 79.3991,  93.9169],\n",
              "        [124.5653, 147.0567],\n",
              "        [ 22.7694,  40.9418],\n",
              "        [ 96.0229, 105.0770]], grad_fn=<AddBackward0>)"
            ]
          },
          "metadata": {},
          "execution_count": 15
        }
      ]
    },
    {
      "cell_type": "code",
      "source": [
        "# Ders 8 : Ağ katmanlarını Yazabilmek\n",
        "\n",
        "import torch\n",
        "from torch.nn import Linear\n",
        "import numpy as np\n",
        "\n",
        "girdi = torch.rand(1)\n",
        "print(girdi)\n",
        "\n",
        "Lineer11 = Linear (in_features=1, out_features = 1)\n",
        "\n",
        "print(\"Ağırlık w : \" , Lineer11.weight)\n",
        "\n",
        "print (\"Bias (y- eksen kestiği yer) : \" , Lineer11.bias)"
      ],
      "metadata": {
        "colab": {
          "base_uri": "https://localhost:8080/"
        },
        "id": "B5qMHelVlB2n",
        "outputId": "1ef0c2b5-fdec-4996-b93c-1e3cd92971d1"
      },
      "execution_count": null,
      "outputs": [
        {
          "output_type": "stream",
          "name": "stdout",
          "text": [
            "tensor([0.1932])\n",
            "Ağırlık w :  Parameter containing:\n",
            "tensor([[-0.5797]], requires_grad=True)\n",
            "Bias (y- eksen kestiği yer) :  Parameter containing:\n",
            "tensor([-0.4642], requires_grad=True)\n"
          ]
        }
      ]
    },
    {
      "cell_type": "code",
      "source": [
        "# Ders 8 : Ağ katmanlarını Yazabilmek\n",
        "print (\"Torch ile Lineer : \" ,  Lineer11(girdi) )\n",
        "\n",
        "print(\"Python ile Hesapladık\")\n",
        "print ( \"mx+b ,  m*girdi +b   w*girdi +b \")\n",
        "\n",
        "print( Lineer11.weight * girdi + Lineer11.bias )"
      ],
      "metadata": {
        "colab": {
          "base_uri": "https://localhost:8080/"
        },
        "id": "272pNNKCoQ7w",
        "outputId": "9e75133e-bb0e-45d7-80af-5a310125eba3"
      },
      "execution_count": null,
      "outputs": [
        {
          "output_type": "stream",
          "name": "stdout",
          "text": [
            "Torch ile Lineer :  tensor([-0.5762], grad_fn=<ViewBackward0>)\n",
            "Python ile Hesapladık\n",
            "mx+b ,  m*girdi +b   w*girdi +b \n",
            "tensor([[-0.5762]], grad_fn=<AddBackward0>)\n"
          ]
        }
      ]
    },
    {
      "cell_type": "code",
      "source": [
        "# Ders 8 : Ağ katmanlarını Yazabilmek\n",
        "\n",
        "Lin1 = Linear (in_features=1, out_features=5 , bias=True)\n",
        "Lin2 = Linear (in_features=5, out_features=1 )\n",
        "print(\"Lin1 : \"  )\n",
        "print(Lin1.weight)\n",
        "\n",
        "\n",
        "print(\"Lin2 : \"  )\n",
        "print(Lin2.weight)\n",
        "\n",
        "print ( Lin2 ( Lin1 (girdi) )  )\n"
      ],
      "metadata": {
        "colab": {
          "base_uri": "https://localhost:8080/"
        },
        "id": "dKBfs5EtpQAM",
        "outputId": "04dbea4c-441d-4293-a2e5-c06d4f7e2f3c"
      },
      "execution_count": null,
      "outputs": [
        {
          "output_type": "stream",
          "name": "stdout",
          "text": [
            "Lin1 : \n",
            "Parameter containing:\n",
            "tensor([[ 0.1635],\n",
            "        [ 0.1107],\n",
            "        [-0.5621],\n",
            "        [ 0.9636],\n",
            "        [-0.2719]], requires_grad=True)\n",
            "Lin2 : \n",
            "Parameter containing:\n",
            "tensor([[ 0.1549, -0.0445, -0.0445, -0.0634,  0.2556]], requires_grad=True)\n",
            "tensor([0.4134], grad_fn=<ViewBackward0>)\n"
          ]
        }
      ]
    },
    {
      "cell_type": "code",
      "source": [
        "# Ders 9: Yapay Sinir Ağımızı Yazalım\n",
        "import torch\n",
        "import torch.nn as nn\n",
        "from sklearn.datasets import load_breast_cancer\n",
        "\n",
        "device = torch.device(\"cpu\")\n",
        "\n",
        "#Hyper Parameter\n",
        "\n",
        "input_size = 30\n",
        "hidden_size = 500\n",
        "num_classes = 2\n",
        "num_epoch = 100\n",
        "\n",
        "learning_rate = 1e-3\n",
        "\n",
        "girdi, cikti = load_breast_cancer ( return_X_y=True)\n",
        "\n",
        "\n",
        "print(girdi)\n",
        "print(girdi.shape)\n",
        "print(cikti)\n",
        "print(cikti.shape)"
      ],
      "metadata": {
        "colab": {
          "base_uri": "https://localhost:8080/"
        },
        "id": "0rQ0MM9EBG2D",
        "outputId": "6130b2c1-b667-4f97-8dba-9943cb2d8b2d"
      },
      "execution_count": null,
      "outputs": [
        {
          "output_type": "stream",
          "name": "stdout",
          "text": [
            "[[1.799e+01 1.038e+01 1.228e+02 ... 2.654e-01 4.601e-01 1.189e-01]\n",
            " [2.057e+01 1.777e+01 1.329e+02 ... 1.860e-01 2.750e-01 8.902e-02]\n",
            " [1.969e+01 2.125e+01 1.300e+02 ... 2.430e-01 3.613e-01 8.758e-02]\n",
            " ...\n",
            " [1.660e+01 2.808e+01 1.083e+02 ... 1.418e-01 2.218e-01 7.820e-02]\n",
            " [2.060e+01 2.933e+01 1.401e+02 ... 2.650e-01 4.087e-01 1.240e-01]\n",
            " [7.760e+00 2.454e+01 4.792e+01 ... 0.000e+00 2.871e-01 7.039e-02]]\n",
            "(569, 30)\n",
            "[0 0 0 0 0 0 0 0 0 0 0 0 0 0 0 0 0 0 0 1 1 1 0 0 0 0 0 0 0 0 0 0 0 0 0 0 0\n",
            " 1 0 0 0 0 0 0 0 0 1 0 1 1 1 1 1 0 0 1 0 0 1 1 1 1 0 1 0 0 1 1 1 1 0 1 0 0\n",
            " 1 0 1 0 0 1 1 1 0 0 1 0 0 0 1 1 1 0 1 1 0 0 1 1 1 0 0 1 1 1 1 0 1 1 0 1 1\n",
            " 1 1 1 1 1 1 0 0 0 1 0 0 1 1 1 0 0 1 0 1 0 0 1 0 0 1 1 0 1 1 0 1 1 1 1 0 1\n",
            " 1 1 1 1 1 1 1 1 0 1 1 1 1 0 0 1 0 1 1 0 0 1 1 0 0 1 1 1 1 0 1 1 0 0 0 1 0\n",
            " 1 0 1 1 1 0 1 1 0 0 1 0 0 0 0 1 0 0 0 1 0 1 0 1 1 0 1 0 0 0 0 1 1 0 0 1 1\n",
            " 1 0 1 1 1 1 1 0 0 1 1 0 1 1 0 0 1 0 1 1 1 1 0 1 1 1 1 1 0 1 0 0 0 0 0 0 0\n",
            " 0 0 0 0 0 0 0 1 1 1 1 1 1 0 1 0 1 1 0 1 1 0 1 0 0 1 1 1 1 1 1 1 1 1 1 1 1\n",
            " 1 0 1 1 0 1 0 1 1 1 1 1 1 1 1 1 1 1 1 1 1 0 1 1 1 0 1 0 1 1 1 1 0 0 0 1 1\n",
            " 1 1 0 1 0 1 0 1 1 1 0 1 1 1 1 1 1 1 0 0 0 1 1 1 1 1 1 1 1 1 1 1 0 0 1 0 0\n",
            " 0 1 0 0 1 1 1 1 1 0 1 1 1 1 1 0 1 1 1 0 1 1 0 0 1 1 1 1 1 1 0 1 1 1 1 1 1\n",
            " 1 0 1 1 1 1 1 0 1 1 0 1 1 1 1 1 1 1 1 1 1 1 1 0 1 0 0 1 0 1 1 1 1 1 0 1 1\n",
            " 0 1 0 1 1 0 1 0 1 1 1 1 1 1 1 1 0 0 1 1 1 1 1 1 0 1 1 1 1 1 1 1 1 1 1 0 1\n",
            " 1 1 1 1 1 1 0 1 0 1 1 0 1 1 1 1 1 0 0 1 0 1 0 1 1 1 1 1 0 1 1 0 1 0 1 0 0\n",
            " 1 1 1 0 1 1 1 1 1 1 1 1 1 1 1 0 1 0 0 1 1 1 1 1 1 1 1 1 1 1 1 1 1 1 1 1 1\n",
            " 1 1 1 1 1 1 1 0 0 0 0 0 0 1]\n",
            "(569,)\n"
          ]
        }
      ]
    },
    {
      "cell_type": "code",
      "source": [
        "# PyTorch Dersleri - 14 - Yapay Sinir Ağımızı Bitirelim\n",
        "#Numpy array den Pytorch array e cevirme\n",
        "# https://github.com/svishnu88/DLwithPyTorch/blob/master/Chapter3/3.%20Diving%20deep%20into%20Neural%20Networks.ipynb\n",
        "\n",
        "train_input = torch.from_numpy(girdi).float() # float\n",
        "train_output = torch.from_numpy(cikti)\n",
        "\n",
        "class NeuralNet (nn.Module) :\n",
        "\n",
        "  def __init__ (self,input_size, hidden_size , num_classes):\n",
        "    super(NeuralNet, self).__init__()\n",
        "    self.fc1 = nn.Linear (input_size, hidden_size)\n",
        "    self.lrelu = nn.LeakyReLU (negative_slope=0.02)  # aktivasyon fonksiyonunun tanımlanması\n",
        "    self.fc2 = nn.Linear ( hidden_size , num_classes )\n",
        "\n",
        "  def forward ( self,input):\n",
        "    outfc1 = self.fc1 (input)\n",
        "    outfc1relu = self.lrelu(outfc1)\n",
        "    out = self.fc2 ( outfc1relu )\n",
        "    return out\n",
        "\n",
        "model = NeuralNet ( input_size, hidden_size, num_classes )  # modelin tanımlanması\n",
        "\n",
        "# Loss function tanımlanması (crossentropy loss kullandık)\n",
        "lossf = nn.CrossEntropyLoss()\n",
        "\n",
        "# Optimizer\n",
        "optimizer = torch.optim.Adam( model.parameters() , lr =learning_rate )\n",
        "\n",
        "for epoch in range (num_epoch) :\n",
        "\n",
        "  outputs = model(train_input )\n",
        "  loss = lossf ( outputs, train_output)\n",
        "\n",
        "  optimizer.zero_grad()\n",
        "  loss.backward()\n",
        "  optimizer.step()\n",
        "  print ( 'Epoch [{}/{}] , Loss : {: .4f}'.format(epoch+1, num_epoch, loss.item()   ) )\n",
        "\n",
        "\n",
        "\n",
        "# Örneğin test etmek isteseydik\n",
        "# optimizer.zero_grad()\n",
        "# outputs = model (\"resim1.jpg\")"
      ],
      "metadata": {
        "colab": {
          "base_uri": "https://localhost:8080/"
        },
        "id": "lcTUaxBkDd2J",
        "outputId": "1d314063-e688-4386-8226-70941c9e13da"
      },
      "execution_count": null,
      "outputs": [
        {
          "output_type": "stream",
          "name": "stdout",
          "text": [
            "Epoch [1/100] , Loss :  35.6482\n",
            "Epoch [2/100] , Loss :  7.1757\n",
            "Epoch [3/100] , Loss :  31.1002\n",
            "Epoch [4/100] , Loss :  34.5772\n",
            "Epoch [5/100] , Loss :  23.8474\n",
            "Epoch [6/100] , Loss :  5.4143\n",
            "Epoch [7/100] , Loss :  11.5460\n",
            "Epoch [8/100] , Loss :  20.5662\n",
            "Epoch [9/100] , Loss :  24.0592\n",
            "Epoch [10/100] , Loss :  23.1728\n",
            "Epoch [11/100] , Loss :  18.7497\n",
            "Epoch [12/100] , Loss :  11.4277\n",
            "Epoch [13/100] , Loss :  1.8761\n",
            "Epoch [14/100] , Loss :  6.0976\n",
            "Epoch [15/100] , Loss :  13.2013\n",
            "Epoch [16/100] , Loss :  13.8707\n",
            "Epoch [17/100] , Loss :  9.1881\n",
            "Epoch [18/100] , Loss :  2.2214\n",
            "Epoch [19/100] , Loss :  0.9142\n",
            "Epoch [20/100] , Loss :  5.3228\n",
            "Epoch [21/100] , Loss :  7.4874\n",
            "Epoch [22/100] , Loss :  6.6619\n",
            "Epoch [23/100] , Loss :  3.4024\n",
            "Epoch [24/100] , Loss :  0.6117\n",
            "Epoch [25/100] , Loss :  1.2213\n",
            "Epoch [26/100] , Loss :  3.1009\n",
            "Epoch [27/100] , Loss :  4.0826\n",
            "Epoch [28/100] , Loss :  3.3328\n",
            "Epoch [29/100] , Loss :  1.7513\n",
            "Epoch [30/100] , Loss :  0.7107\n",
            "Epoch [31/100] , Loss :  0.7537\n",
            "Epoch [32/100] , Loss :  1.7924\n",
            "Epoch [33/100] , Loss :  2.4012\n",
            "Epoch [34/100] , Loss :  1.8342\n",
            "Epoch [35/100] , Loss :  0.8905\n",
            "Epoch [36/100] , Loss :  0.6012\n",
            "Epoch [37/100] , Loss :  0.8777\n",
            "Epoch [38/100] , Loss :  1.2922\n",
            "Epoch [39/100] , Loss :  1.5071\n",
            "Epoch [40/100] , Loss :  1.3554\n",
            "Epoch [41/100] , Loss :  0.9857\n",
            "Epoch [42/100] , Loss :  0.6699\n",
            "Epoch [43/100] , Loss :  0.5659\n",
            "Epoch [44/100] , Loss :  0.7873\n",
            "Epoch [45/100] , Loss :  1.0453\n",
            "Epoch [46/100] , Loss :  0.9789\n",
            "Epoch [47/100] , Loss :  0.6964\n",
            "Epoch [48/100] , Loss :  0.5454\n",
            "Epoch [49/100] , Loss :  0.6123\n",
            "Epoch [50/100] , Loss :  0.7261\n",
            "Epoch [51/100] , Loss :  0.8005\n",
            "Epoch [52/100] , Loss :  0.7745\n",
            "Epoch [53/100] , Loss :  0.6726\n",
            "Epoch [54/100] , Loss :  0.5633\n",
            "Epoch [55/100] , Loss :  0.5101\n",
            "Epoch [56/100] , Loss :  0.5767\n",
            "Epoch [57/100] , Loss :  0.6524\n",
            "Epoch [58/100] , Loss :  0.6280\n",
            "Epoch [59/100] , Loss :  0.5367\n",
            "Epoch [60/100] , Loss :  0.4859\n",
            "Epoch [61/100] , Loss :  0.5115\n",
            "Epoch [62/100] , Loss :  0.5536\n",
            "Epoch [63/100] , Loss :  0.5594\n",
            "Epoch [64/100] , Loss :  0.5209\n",
            "Epoch [65/100] , Loss :  0.4726\n",
            "Epoch [66/100] , Loss :  0.4648\n",
            "Epoch [67/100] , Loss :  0.4907\n",
            "Epoch [68/100] , Loss :  0.5060\n",
            "Epoch [69/100] , Loss :  0.4836\n",
            "Epoch [70/100] , Loss :  0.4525\n",
            "Epoch [71/100] , Loss :  0.4440\n",
            "Epoch [72/100] , Loss :  0.4563\n",
            "Epoch [73/100] , Loss :  0.4652\n",
            "Epoch [74/100] , Loss :  0.4544\n",
            "Epoch [75/100] , Loss :  0.4355\n",
            "Epoch [76/100] , Loss :  0.4275\n",
            "Epoch [77/100] , Loss :  0.4330\n",
            "Epoch [78/100] , Loss :  0.4392\n",
            "Epoch [79/100] , Loss :  0.4327\n",
            "Epoch [80/100] , Loss :  0.4199\n",
            "Epoch [81/100] , Loss :  0.4143\n",
            "Epoch [82/100] , Loss :  0.4169\n",
            "Epoch [83/100] , Loss :  0.4193\n",
            "Epoch [84/100] , Loss :  0.4146\n",
            "Epoch [85/100] , Loss :  0.4061\n",
            "Epoch [86/100] , Loss :  0.4013\n",
            "Epoch [87/100] , Loss :  0.4022\n",
            "Epoch [88/100] , Loss :  0.4028\n",
            "Epoch [89/100] , Loss :  0.3980\n",
            "Epoch [90/100] , Loss :  0.3916\n",
            "Epoch [91/100] , Loss :  0.3890\n",
            "Epoch [92/100] , Loss :  0.3891\n",
            "Epoch [93/100] , Loss :  0.3875\n",
            "Epoch [94/100] , Loss :  0.3829\n",
            "Epoch [95/100] , Loss :  0.3785\n",
            "Epoch [96/100] , Loss :  0.3768\n",
            "Epoch [97/100] , Loss :  0.3760\n",
            "Epoch [98/100] , Loss :  0.3730\n",
            "Epoch [99/100] , Loss :  0.3688\n",
            "Epoch [100/100] , Loss :  0.3659\n"
          ]
        }
      ]
    },
    {
      "cell_type": "code",
      "source": [
        "# Ders 15 -- PyTorch - 15 - PyTorch ile CNN, CIFAR10\n",
        "\n",
        "\n",
        "import torch\n",
        "import torchvision\n",
        "import torchvision.transforms as tfms\n",
        "\n",
        "# mean ve std normalize edilidi (mean ,std) --> 3 kanal var rgb\n",
        "\n",
        "# Veri dönüşümleri\n",
        "transform = tfms.Compose([\n",
        "    tfms.ToTensor(),\n",
        "    tfms.Normalize((0.5, 0.5, 0.5), (0.5, 0.5, 0.5))\n",
        "])\n",
        "\n",
        "trainset = torchvision.datasets.CIFAR10 ( root='./data' , train = True , download= True , transform = transform )\n",
        "\n",
        "# batch size çok alırsanız ram e  güveniyorsunuz demektir, hızlı generalize eder\n",
        "# batch size düşük alırsanız yavaş çalışır ama accuracy yüksektir, eğitim süresi uzar\n",
        "# batch size her epoch ta kaç tane veri çekeyim anlamına gelir\n",
        "trainloader = torch.utils.data.DataLoader ( trainset , shuffle = True , batch_size = 6 , num_workers=2  )  # batch size düşük alırsanız eğitim süresi uzar\n",
        "\n",
        "\n",
        "\n",
        "testset = torchvision.datasets.CIFAR10 ( root='./data' , train = False , download= True , transform = transform )\n",
        "\n",
        "testloader = torch.utils.data.DataLoader ( testset , shuffle = True , batch_size = 6 , num_workers=2  )\n",
        "\n",
        "classes = ( 'plane' , 'car' , 'bird' , 'cat' , 'deer' , 'dog', 'frog' , 'horse' , 'ship' , 'truck' ) # 10 adet kategori var"
      ],
      "metadata": {
        "colab": {
          "base_uri": "https://localhost:8080/"
        },
        "id": "HFlEo4fn62I1",
        "outputId": "c8f18d88-73fb-42e8-dd5b-ff975d6db71b"
      },
      "execution_count": null,
      "outputs": [
        {
          "output_type": "stream",
          "name": "stdout",
          "text": [
            "Downloading https://www.cs.toronto.edu/~kriz/cifar-10-python.tar.gz to ./data/cifar-10-python.tar.gz\n"
          ]
        },
        {
          "output_type": "stream",
          "name": "stderr",
          "text": [
            "100%|██████████| 170M/170M [00:03<00:00, 49.4MB/s]\n"
          ]
        },
        {
          "output_type": "stream",
          "name": "stdout",
          "text": [
            "Extracting ./data/cifar-10-python.tar.gz to ./data\n",
            "Files already downloaded and verified\n"
          ]
        }
      ]
    },
    {
      "cell_type": "code",
      "source": [
        "import matplotlib.pyplot as plt\n",
        "import numpy as np\n",
        "\n",
        "def imshow (img) :\n",
        "  img = img/2 + 0.5\n",
        "  npimg = img.numpy()\n",
        "  plt.imshow ( np.transpose (npimg, (1,2,0)  ))\n",
        "  plt.show()\n",
        "\n",
        "\n",
        "dataiter = iter(trainloader)\n",
        "images, labels = next(dataiter)\n",
        "\n",
        "imshow (torchvision.utils.make_grid (images) )\n",
        "\n",
        "# Etiketleri yazdır\n",
        "print(' '.join(f'{classes[labels[j]]}' for j in range(6)))"
      ],
      "metadata": {
        "colab": {
          "base_uri": "https://localhost:8080/",
          "height": 168
        },
        "id": "ov8Zx2Bujkwg",
        "outputId": "8bdca9eb-15cf-4398-fe6e-af99c78d94cd"
      },
      "execution_count": null,
      "outputs": [
        {
          "output_type": "display_data",
          "data": {
            "text/plain": [
              "<Figure size 640x480 with 1 Axes>"
            ],
            "image/png": "[encoded data removed]"
          },
          "metadata": {}
        },
        {
          "output_type": "stream",
          "name": "stdout",
          "text": [
            "plane deer plane plane horse frog\n"
          ]
        }
      ]
    },
    {
      "cell_type": "code",
      "source": [
        "# PyTorch - 18 - CNN Ağını Kuralım\n",
        "\n",
        "import torch.nn as nn\n",
        "import torch.nn.functional as F\n",
        "\n",
        "\n",
        "class Net( nn.Module) :\n",
        "\n",
        "  def __init__(self) :\n",
        "    super(Net, self).__init__()\n",
        "    self.conv1 = nn.Conv2d (3,6,3)\n",
        "    self.conv2 = nn.Conv2d (6,9,3)\n",
        "    self.conv3 = nn.Conv2d (9,12,3)\n",
        "    self.pool  = nn.MaxPool2d (  2,2 )\n",
        "    self.conv4 = nn.Conv2d (12,12,3)\n",
        "    self.fc1 = nn.Linear (1452 , 10)\n",
        "\n",
        "# back propagation pytorch kendi hallediyor, biz sadece forward propogation halledeceğiz\n",
        "  def forward(self,x):\n",
        "    x = self.conv1(x)\n",
        "    x = F.relu (x)\n",
        "    x = F.relu ( self.conv3 ( F.relu (self.conv2(x))))\n",
        "    x = F.relu ( self.conv4 ( self.pool(x) ))\n",
        "    x = x.view ( -1, 1452 )\n",
        "    x = self.fc1(x)\n",
        "    x = F.softmax(x)\n",
        "    return x\n"
      ],
      "metadata": {
        "id": "uFDwfWJD2BOH"
      },
      "execution_count": null,
      "outputs": []
    },
    {
      "cell_type": "code",
      "source": [
        "# PyTorch - 20 - Eğitim İşlemi, Epohchs, Loss, Optimizer\n",
        "# Loss ve optimizer yazıp sonra da ağımızı eğitelim\n",
        "\n",
        "net = Net()\n",
        "\n",
        "import torch.optim as optim\n",
        "\n",
        "criterion = nn.CrossEntropyLoss()  # bu farklı bir loss fonksiyonda olabilirdi\n",
        "\n",
        "optimizer = optim.Adam( net.parameters() , lr = 0.001 ) # sgd,adam,rms gibi optimizerlar var\n",
        "\n",
        "\n",
        "# tekrar kısmı\n",
        "\n",
        "for epoch in range(10):\n",
        "  running_loss = 0\n",
        "\n",
        "  for i, data in enumerate ( trainloader, 0) :\n",
        "    inputs, labels = data\n",
        "    optimizer.zero_grad()\n",
        "\n",
        "    pred = net(inputs)\n",
        "    loss = criterion (pred , labels )\n",
        "    loss.backward()\n",
        "    optimizer.step()\n",
        "\n",
        "    running_loss = running_loss + loss.item()\n",
        "\n",
        "    if i % 500 == 0:\n",
        "      print(\" [%d %5d]  loss %0.3f\" % (epoch + 1, i + 1, running_loss / 500))\n",
        "\n"
      ],
      "metadata": {
        "colab": {
          "base_uri": "https://localhost:8080/",
          "height": 460
        },
        "id": "0Y6g4uV36Z7A",
        "outputId": "a1bd8710-f2c3-4b6e-d4d3-a7027ecdf645"
      },
      "execution_count": null,
      "outputs": [
        {
          "output_type": "stream",
          "name": "stderr",
          "text": [
            "<ipython-input-4-e1be364c981e>:26: UserWarning: Implicit dimension choice for softmax has been deprecated. Change the call to include dim=X as an argument.\n",
            "  x = F.softmax(x)\n"
          ]
        },
        {
          "output_type": "stream",
          "name": "stdout",
          "text": [
            " [1     1]  loss 0.005\n",
            " [1   501]  loss 2.228\n",
            " [1  1001]  loss 4.409\n",
            " [1  1501]  loss 6.545\n"
          ]
        },
        {
          "output_type": "error",
          "ename": "KeyboardInterrupt",
          "evalue": "",
          "traceback": [
            "\u001b[0;31m---------------------------------------------------------------------------\u001b[0m",
            "\u001b[0;31mKeyboardInterrupt\u001b[0m                         Traceback (most recent call last)",
            "\u001b[0;32m<ipython-input-7-f557102834c8>\u001b[0m in \u001b[0;36m<cell line: 0>\u001b[0;34m()\u001b[0m\n\u001b[1;32m     20\u001b[0m     \u001b[0moptimizer\u001b[0m\u001b[0;34m.\u001b[0m\u001b[0mzero_grad\u001b[0m\u001b[0;34m(\u001b[0m\u001b[0;34m)\u001b[0m\u001b[0;34m\u001b[0m\u001b[0;34m\u001b[0m\u001b[0m\n\u001b[1;32m     21\u001b[0m \u001b[0;34m\u001b[0m\u001b[0m\n\u001b[0;32m---> 22\u001b[0;31m     \u001b[0mpred\u001b[0m \u001b[0;34m=\u001b[0m \u001b[0mnet\u001b[0m\u001b[0;34m(\u001b[0m\u001b[0minputs\u001b[0m\u001b[0;34m)\u001b[0m\u001b[0;34m\u001b[0m\u001b[0;34m\u001b[0m\u001b[0m\n\u001b[0m\u001b[1;32m     23\u001b[0m     \u001b[0mloss\u001b[0m \u001b[0;34m=\u001b[0m \u001b[0mcriterion\u001b[0m \u001b[0;34m(\u001b[0m\u001b[0mpred\u001b[0m \u001b[0;34m,\u001b[0m \u001b[0mlabels\u001b[0m \u001b[0;34m)\u001b[0m\u001b[0;34m\u001b[0m\u001b[0;34m\u001b[0m\u001b[0m\n\u001b[1;32m     24\u001b[0m     \u001b[0mloss\u001b[0m\u001b[0;34m.\u001b[0m\u001b[0mbackward\u001b[0m\u001b[0;34m(\u001b[0m\u001b[0;34m)\u001b[0m\u001b[0;34m\u001b[0m\u001b[0;34m\u001b[0m\u001b[0m\n",
            "\u001b[0;32m/usr/local/lib/python3.11/dist-packages/torch/nn/modules/module.py\u001b[0m in \u001b[0;36m_wrapped_call_impl\u001b[0;34m(self, *args, **kwargs)\u001b[0m\n\u001b[1;32m   1734\u001b[0m             \u001b[0;32mreturn\u001b[0m \u001b[0mself\u001b[0m\u001b[0;34m.\u001b[0m\u001b[0m_compiled_call_impl\u001b[0m\u001b[0;34m(\u001b[0m\u001b[0;34m*\u001b[0m\u001b[0margs\u001b[0m\u001b[0;34m,\u001b[0m \u001b[0;34m**\u001b[0m\u001b[0mkwargs\u001b[0m\u001b[0;34m)\u001b[0m  \u001b[0;31m# type: ignore[misc]\u001b[0m\u001b[0;34m\u001b[0m\u001b[0;34m\u001b[0m\u001b[0m\n\u001b[1;32m   1735\u001b[0m         \u001b[0;32melse\u001b[0m\u001b[0;34m:\u001b[0m\u001b[0;34m\u001b[0m\u001b[0;34m\u001b[0m\u001b[0m\n\u001b[0;32m-> 1736\u001b[0;31m             \u001b[0;32mreturn\u001b[0m \u001b[0mself\u001b[0m\u001b[0;34m.\u001b[0m\u001b[0m_call_impl\u001b[0m\u001b[0;34m(\u001b[0m\u001b[0;34m*\u001b[0m\u001b[0margs\u001b[0m\u001b[0;34m,\u001b[0m \u001b[0;34m**\u001b[0m\u001b[0mkwargs\u001b[0m\u001b[0;34m)\u001b[0m\u001b[0;34m\u001b[0m\u001b[0;34m\u001b[0m\u001b[0m\n\u001b[0m\u001b[1;32m   1737\u001b[0m \u001b[0;34m\u001b[0m\u001b[0m\n\u001b[1;32m   1738\u001b[0m     \u001b[0;31m# torchrec tests the code consistency with the following code\u001b[0m\u001b[0;34m\u001b[0m\u001b[0;34m\u001b[0m\u001b[0m\n",
            "\u001b[0;32m/usr/local/lib/python3.11/dist-packages/torch/nn/modules/module.py\u001b[0m in \u001b[0;36m_call_impl\u001b[0;34m(self, *args, **kwargs)\u001b[0m\n\u001b[1;32m   1745\u001b[0m                 \u001b[0;32mor\u001b[0m \u001b[0m_global_backward_pre_hooks\u001b[0m \u001b[0;32mor\u001b[0m \u001b[0m_global_backward_hooks\u001b[0m\u001b[0;34m\u001b[0m\u001b[0;34m\u001b[0m\u001b[0m\n\u001b[1;32m   1746\u001b[0m                 or _global_forward_hooks or _global_forward_pre_hooks):\n\u001b[0;32m-> 1747\u001b[0;31m             \u001b[0;32mreturn\u001b[0m \u001b[0mforward_call\u001b[0m\u001b[0;34m(\u001b[0m\u001b[0;34m*\u001b[0m\u001b[0margs\u001b[0m\u001b[0;34m,\u001b[0m \u001b[0;34m**\u001b[0m\u001b[0mkwargs\u001b[0m\u001b[0;34m)\u001b[0m\u001b[0;34m\u001b[0m\u001b[0;34m\u001b[0m\u001b[0m\n\u001b[0m\u001b[1;32m   1748\u001b[0m \u001b[0;34m\u001b[0m\u001b[0m\n\u001b[1;32m   1749\u001b[0m         \u001b[0mresult\u001b[0m \u001b[0;34m=\u001b[0m \u001b[0;32mNone\u001b[0m\u001b[0;34m\u001b[0m\u001b[0;34m\u001b[0m\u001b[0m\n",
            "\u001b[0;32m<ipython-input-4-e1be364c981e>\u001b[0m in \u001b[0;36mforward\u001b[0;34m(self, x)\u001b[0m\n\u001b[1;32m     18\u001b[0m \u001b[0;31m# back propagation pytorch kendi hallediyor, biz sadece forward propogation halledeceğiz\u001b[0m\u001b[0;34m\u001b[0m\u001b[0;34m\u001b[0m\u001b[0m\n\u001b[1;32m     19\u001b[0m   \u001b[0;32mdef\u001b[0m \u001b[0mforward\u001b[0m\u001b[0;34m(\u001b[0m\u001b[0mself\u001b[0m\u001b[0;34m,\u001b[0m\u001b[0mx\u001b[0m\u001b[0;34m)\u001b[0m\u001b[0;34m:\u001b[0m\u001b[0;34m\u001b[0m\u001b[0;34m\u001b[0m\u001b[0m\n\u001b[0;32m---> 20\u001b[0;31m     \u001b[0mx\u001b[0m \u001b[0;34m=\u001b[0m \u001b[0mself\u001b[0m\u001b[0;34m.\u001b[0m\u001b[0mconv1\u001b[0m\u001b[0;34m(\u001b[0m\u001b[0mx\u001b[0m\u001b[0;34m)\u001b[0m\u001b[0;34m\u001b[0m\u001b[0;34m\u001b[0m\u001b[0m\n\u001b[0m\u001b[1;32m     21\u001b[0m     \u001b[0mx\u001b[0m \u001b[0;34m=\u001b[0m \u001b[0mF\u001b[0m\u001b[0;34m.\u001b[0m\u001b[0mrelu\u001b[0m \u001b[0;34m(\u001b[0m\u001b[0mx\u001b[0m\u001b[0;34m)\u001b[0m\u001b[0;34m\u001b[0m\u001b[0;34m\u001b[0m\u001b[0m\n\u001b[1;32m     22\u001b[0m     \u001b[0mx\u001b[0m \u001b[0;34m=\u001b[0m \u001b[0mF\u001b[0m\u001b[0;34m.\u001b[0m\u001b[0mrelu\u001b[0m \u001b[0;34m(\u001b[0m \u001b[0mself\u001b[0m\u001b[0;34m.\u001b[0m\u001b[0mconv3\u001b[0m \u001b[0;34m(\u001b[0m \u001b[0mF\u001b[0m\u001b[0;34m.\u001b[0m\u001b[0mrelu\u001b[0m \u001b[0;34m(\u001b[0m\u001b[0mself\u001b[0m\u001b[0;34m.\u001b[0m\u001b[0mconv2\u001b[0m\u001b[0;34m(\u001b[0m\u001b[0mx\u001b[0m\u001b[0;34m)\u001b[0m\u001b[0;34m)\u001b[0m\u001b[0;34m)\u001b[0m\u001b[0;34m)\u001b[0m\u001b[0;34m\u001b[0m\u001b[0;34m\u001b[0m\u001b[0m\n",
            "\u001b[0;32m/usr/local/lib/python3.11/dist-packages/torch/nn/modules/module.py\u001b[0m in \u001b[0;36m_wrapped_call_impl\u001b[0;34m(self, *args, **kwargs)\u001b[0m\n\u001b[1;32m   1734\u001b[0m             \u001b[0;32mreturn\u001b[0m \u001b[0mself\u001b[0m\u001b[0;34m.\u001b[0m\u001b[0m_compiled_call_impl\u001b[0m\u001b[0;34m(\u001b[0m\u001b[0;34m*\u001b[0m\u001b[0margs\u001b[0m\u001b[0;34m,\u001b[0m \u001b[0;34m**\u001b[0m\u001b[0mkwargs\u001b[0m\u001b[0;34m)\u001b[0m  \u001b[0;31m# type: ignore[misc]\u001b[0m\u001b[0;34m\u001b[0m\u001b[0;34m\u001b[0m\u001b[0m\n\u001b[1;32m   1735\u001b[0m         \u001b[0;32melse\u001b[0m\u001b[0;34m:\u001b[0m\u001b[0;34m\u001b[0m\u001b[0;34m\u001b[0m\u001b[0m\n\u001b[0;32m-> 1736\u001b[0;31m             \u001b[0;32mreturn\u001b[0m \u001b[0mself\u001b[0m\u001b[0;34m.\u001b[0m\u001b[0m_call_impl\u001b[0m\u001b[0;34m(\u001b[0m\u001b[0;34m*\u001b[0m\u001b[0margs\u001b[0m\u001b[0;34m,\u001b[0m \u001b[0;34m**\u001b[0m\u001b[0mkwargs\u001b[0m\u001b[0;34m)\u001b[0m\u001b[0;34m\u001b[0m\u001b[0;34m\u001b[0m\u001b[0m\n\u001b[0m\u001b[1;32m   1737\u001b[0m \u001b[0;34m\u001b[0m\u001b[0m\n\u001b[1;32m   1738\u001b[0m     \u001b[0;31m# torchrec tests the code consistency with the following code\u001b[0m\u001b[0;34m\u001b[0m\u001b[0;34m\u001b[0m\u001b[0m\n",
            "\u001b[0;32m/usr/local/lib/python3.11/dist-packages/torch/nn/modules/module.py\u001b[0m in \u001b[0;36m_call_impl\u001b[0;34m(self, *args, **kwargs)\u001b[0m\n\u001b[1;32m   1745\u001b[0m                 \u001b[0;32mor\u001b[0m \u001b[0m_global_backward_pre_hooks\u001b[0m \u001b[0;32mor\u001b[0m \u001b[0m_global_backward_hooks\u001b[0m\u001b[0;34m\u001b[0m\u001b[0;34m\u001b[0m\u001b[0m\n\u001b[1;32m   1746\u001b[0m                 or _global_forward_hooks or _global_forward_pre_hooks):\n\u001b[0;32m-> 1747\u001b[0;31m             \u001b[0;32mreturn\u001b[0m \u001b[0mforward_call\u001b[0m\u001b[0;34m(\u001b[0m\u001b[0;34m*\u001b[0m\u001b[0margs\u001b[0m\u001b[0;34m,\u001b[0m \u001b[0;34m**\u001b[0m\u001b[0mkwargs\u001b[0m\u001b[0;34m)\u001b[0m\u001b[0;34m\u001b[0m\u001b[0;34m\u001b[0m\u001b[0m\n\u001b[0m\u001b[1;32m   1748\u001b[0m \u001b[0;34m\u001b[0m\u001b[0m\n\u001b[1;32m   1749\u001b[0m         \u001b[0mresult\u001b[0m \u001b[0;34m=\u001b[0m \u001b[0;32mNone\u001b[0m\u001b[0;34m\u001b[0m\u001b[0;34m\u001b[0m\u001b[0m\n",
            "\u001b[0;32m/usr/local/lib/python3.11/dist-packages/torch/nn/modules/conv.py\u001b[0m in \u001b[0;36mforward\u001b[0;34m(self, input)\u001b[0m\n\u001b[1;32m    552\u001b[0m \u001b[0;34m\u001b[0m\u001b[0m\n\u001b[1;32m    553\u001b[0m     \u001b[0;32mdef\u001b[0m \u001b[0mforward\u001b[0m\u001b[0;34m(\u001b[0m\u001b[0mself\u001b[0m\u001b[0;34m,\u001b[0m \u001b[0minput\u001b[0m\u001b[0;34m:\u001b[0m \u001b[0mTensor\u001b[0m\u001b[0;34m)\u001b[0m \u001b[0;34m->\u001b[0m \u001b[0mTensor\u001b[0m\u001b[0;34m:\u001b[0m\u001b[0;34m\u001b[0m\u001b[0;34m\u001b[0m\u001b[0m\n\u001b[0;32m--> 554\u001b[0;31m         \u001b[0;32mreturn\u001b[0m \u001b[0mself\u001b[0m\u001b[0;34m.\u001b[0m\u001b[0m_conv_forward\u001b[0m\u001b[0;34m(\u001b[0m\u001b[0minput\u001b[0m\u001b[0;34m,\u001b[0m \u001b[0mself\u001b[0m\u001b[0;34m.\u001b[0m\u001b[0mweight\u001b[0m\u001b[0;34m,\u001b[0m \u001b[0mself\u001b[0m\u001b[0;34m.\u001b[0m\u001b[0mbias\u001b[0m\u001b[0;34m)\u001b[0m\u001b[0;34m\u001b[0m\u001b[0;34m\u001b[0m\u001b[0m\n\u001b[0m\u001b[1;32m    555\u001b[0m \u001b[0;34m\u001b[0m\u001b[0m\n\u001b[1;32m    556\u001b[0m \u001b[0;34m\u001b[0m\u001b[0m\n",
            "\u001b[0;32m/usr/local/lib/python3.11/dist-packages/torch/nn/modules/conv.py\u001b[0m in \u001b[0;36m_conv_forward\u001b[0;34m(self, input, weight, bias)\u001b[0m\n\u001b[1;32m    547\u001b[0m                 \u001b[0mself\u001b[0m\u001b[0;34m.\u001b[0m\u001b[0mgroups\u001b[0m\u001b[0;34m,\u001b[0m\u001b[0;34m\u001b[0m\u001b[0;34m\u001b[0m\u001b[0m\n\u001b[1;32m    548\u001b[0m             )\n\u001b[0;32m--> 549\u001b[0;31m         return F.conv2d(\n\u001b[0m\u001b[1;32m    550\u001b[0m             \u001b[0minput\u001b[0m\u001b[0;34m,\u001b[0m \u001b[0mweight\u001b[0m\u001b[0;34m,\u001b[0m \u001b[0mbias\u001b[0m\u001b[0;34m,\u001b[0m \u001b[0mself\u001b[0m\u001b[0;34m.\u001b[0m\u001b[0mstride\u001b[0m\u001b[0;34m,\u001b[0m \u001b[0mself\u001b[0m\u001b[0;34m.\u001b[0m\u001b[0mpadding\u001b[0m\u001b[0;34m,\u001b[0m \u001b[0mself\u001b[0m\u001b[0;34m.\u001b[0m\u001b[0mdilation\u001b[0m\u001b[0;34m,\u001b[0m \u001b[0mself\u001b[0m\u001b[0;34m.\u001b[0m\u001b[0mgroups\u001b[0m\u001b[0;34m\u001b[0m\u001b[0;34m\u001b[0m\u001b[0m\n\u001b[1;32m    551\u001b[0m         )\n",
            "\u001b[0;31mKeyboardInterrupt\u001b[0m: "
          ]
        }
      ]
    }
  ]
}